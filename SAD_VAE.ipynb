{
 "cells": [
  {
   "cell_type": "markdown",
   "id": "24c329fd-e24f-4271-b29b-2886e285ed56",
   "metadata": {},
   "source": [
    "# SAD VAE"
   ]
  },
  {
   "cell_type": "code",
   "execution_count": null,
   "id": "b741ca36-a81e-4e3c-99c8-e5af23ee3a7d",
   "metadata": {},
   "outputs": [],
   "source": []
  },
  {
   "cell_type": "code",
   "execution_count": 30,
   "id": "250b7ff3-dc25-4049-9485-fec9565767f0",
   "metadata": {},
   "outputs": [],
   "source": [
    "from tensorflow.keras.models import Model\n",
    "from tensorflow import keras\n",
    "from tensorflow.keras import layers\n",
    "import pandas as pd\n",
    "import numpy as np\n",
    "from tensorflow.keras.callbacks import EarlyStopping, CSVLogger\n",
    "from sklearn.model_selection import train_test_split\n",
    "from typing import Tuple\n",
    "from sklearn.preprocessing import StandardScaler, MinMaxScaler\n",
    "import tensorflow as tf\n",
    "import os\n"
   ]
  },
  {
   "cell_type": "code",
   "execution_count": null,
   "id": "c3d595f8-a25d-42a9-a202-6eff4e051847",
   "metadata": {},
   "outputs": [],
   "source": []
  },
  {
   "cell_type": "markdown",
   "id": "e8aa2ee5-ed15-40b8-9847-07518d99f56f",
   "metadata": {},
   "source": [
    "### Normalization"
   ]
  },
  {
   "cell_type": "code",
   "execution_count": 19,
   "id": "3af42af3-6ed3-4216-b80a-b6e3a3dc15f9",
   "metadata": {},
   "outputs": [],
   "source": [
    "def normalize(data: pd.DataFrame, features: list, feature_range: Tuple = None, scaler=None) -> (pd.DataFrame, any):\n",
    "        if feature_range is not None and scaler is None:\n",
    "            scaler = MinMaxScaler(feature_range=feature_range)\n",
    "            scaler.fit(data)\n",
    "        elif feature_range is None and scaler is None:\n",
    "            scaler = MinMaxScaler(feature_range=(-1, 1))\n",
    "            scaler.fit(data)\n",
    "\n",
    "        data = scaler.transform(data)\n",
    "\n",
    "        return pd.DataFrame(columns=features, data=data), scaler"
   ]
  },
  {
   "cell_type": "markdown",
   "id": "4c3702c8-3bd5-4907-9156-4184cb59a02e",
   "metadata": {},
   "source": [
    "### Split handler"
   ]
  },
  {
   "cell_type": "code",
   "execution_count": 20,
   "id": "d730258a-a3c9-4774-8175-235e9f242a32",
   "metadata": {},
   "outputs": [],
   "source": [
    "def create_splits(input_data: pd.DataFrame, without_val: bool = False) -> Tuple:\n",
    "        \"\"\"\n",
    "        Creates train val test split of the data provided\n",
    "        @param input_data: The input data which should be split\n",
    "        @param without_val: If true only a test and a train set will be created\n",
    "        @return: A tuple containing all the sets.\n",
    "        \"\"\"\n",
    "\n",
    "        # No validation set will be created\n",
    "        if without_val:\n",
    "            return train_test_split(input_data, test_size=0.2, random_state=1, shuffle=True)\n",
    "\n",
    "        # Create validation set\n",
    "        X_dev, X_val = train_test_split(input_data, test_size=0.05, random_state=1, shuffle=True)\n",
    "        X_train, X_test = train_test_split(X_dev, test_size=0.25, random_state=1, shuffle=True)\n",
    "        return X_train, X_val, X_test"
   ]
  },
  {
   "cell_type": "markdown",
   "id": "4c2293d3-b114-49fc-96e6-e585a74cdb9a",
   "metadata": {},
   "source": [
    "### Create custom sampling layer"
   ]
  },
  {
   "cell_type": "code",
   "execution_count": 21,
   "id": "463a8a5a-790f-4e30-baa6-c271a3f7dc81",
   "metadata": {},
   "outputs": [],
   "source": [
    "class Sampling(layers.Layer):\n",
    "    \"\"\"Uses (z_mean, z_log_var) to sample z, the vector encoding a digit.\"\"\"\n",
    "\n",
    "    def call(self, inputs):\n",
    "        z_mean, z_log_var = inputs\n",
    "        batch = tf.shape(z_mean)[0]\n",
    "        dim = tf.shape(z_mean)[1]\n",
    "        epsilon = tf.keras.backend.random_normal(shape=(batch, dim))\n",
    "        return z_mean + tf.exp(0.5 * z_log_var) * epsilon"
   ]
  },
  {
   "cell_type": "markdown",
   "id": "19e9217d-e4cc-4b11-87aa-1a94cb98ab50",
   "metadata": {},
   "source": [
    "### Create VAE "
   ]
  },
  {
   "cell_type": "code",
   "execution_count": 22,
   "id": "824dde97-2586-4b65-9e9e-7c54310ff12a",
   "metadata": {},
   "outputs": [],
   "source": [
    "class VAE(keras.Model):\n",
    "    def __init__(self, encoder, decoder, **kwargs):\n",
    "        super(VAE, self).__init__(**kwargs)\n",
    "        self.encoder: Model = encoder\n",
    "        self.decoder: Model = decoder\n",
    "        self.total_loss_tracker = keras.metrics.Mean(name=\"total_loss\")\n",
    "        self.reconstruction_loss_tracker = keras.metrics.Mean(\n",
    "            name=\"reconstruction_loss\"\n",
    "        )\n",
    "        self.kl_loss_tracker = keras.metrics.Mean(name=\"kl_loss\")\n",
    "\n",
    "    @property\n",
    "    def metrics(self):\n",
    "        return [\n",
    "            self.total_loss_tracker,\n",
    "            self.reconstruction_loss_tracker,\n",
    "            self.kl_loss_tracker,\n",
    "        ]\n",
    "\n",
    "    def train_step(self, data):\n",
    "        with tf.GradientTape() as tape:\n",
    "            z_mean, z_log_var, z = self.encoder(data)\n",
    "            reconstruction = self.decoder(z)\n",
    "            reconstruction_loss_fn = keras.losses.MeanSquaredError()\n",
    "            reconstruction_loss = reconstruction_loss_fn(data, reconstruction)\n",
    "            kl_loss = -0.5 * (1 + z_log_var - tf.square(z_mean) - tf.exp(z_log_var))\n",
    "            kl_loss = tf.reduce_mean(tf.reduce_sum(kl_loss, axis=1))\n",
    "            total_loss = reconstruction_loss + kl_loss\n",
    "        grads = tape.gradient(total_loss, self.trainable_weights)\n",
    "        self.optimizer.apply_gradients(zip(grads, self.trainable_weights))\n",
    "        self.total_loss_tracker.update_state(total_loss)\n",
    "        self.reconstruction_loss_tracker.update_state(reconstruction_loss)\n",
    "        self.kl_loss_tracker.update_state(kl_loss)\n",
    "        return {\n",
    "            \"loss\": self.total_loss_tracker.result(),\n",
    "            \"reconstruction_loss\": self.reconstruction_loss_tracker.result(),\n",
    "            \"kl_loss\": self.kl_loss_tracker.result(),\n",
    "        }\n",
    "\n",
    "    def call(self, inputs):\n",
    "        z_mean, z_log_var, z = self.encoder(inputs)\n",
    "        return self.decoder(z)"
   ]
  },
  {
   "cell_type": "code",
   "execution_count": null,
   "id": "55471682-e44a-45c6-864c-bf30ccf0e7ce",
   "metadata": {},
   "outputs": [],
   "source": []
  },
  {
   "cell_type": "markdown",
   "id": "ca928a0a-fd82-4394-8ebc-0ef9c11408dd",
   "metadata": {},
   "source": [
    "### Adjust hyperparameters"
   ]
  },
  {
   "cell_type": "code",
   "execution_count": 32,
   "id": "eb18835f-fe77-485a-a396-8bca89016d84",
   "metadata": {},
   "outputs": [],
   "source": [
    "latent_dim = 500 # Latent dims\n",
    "data_path = \"X_intersect_5k_mad_feats_cohorts_n25.tsv\" # Path to you data\n",
    "epochs = 100 # The number of epochs\n",
    "batch_size = 128 # The batch size\n",
    "base_path = \"\""
   ]
  },
  {
   "cell_type": "code",
   "execution_count": null,
   "id": "bff49bec-e001-4e02-90b7-98a754575ac6",
   "metadata": {},
   "outputs": [],
   "source": []
  },
  {
   "cell_type": "markdown",
   "id": "d559dcbc-692b-4608-88fd-52d79c5955f6",
   "metadata": {},
   "source": [
    "### Load data"
   ]
  },
  {
   "cell_type": "code",
   "execution_count": 26,
   "id": "f4242545-6067-48cd-a29a-743779505f5d",
   "metadata": {},
   "outputs": [],
   "source": [
    "data = pd.read_csv(data_path, sep='\\t', index_col=0)\n",
    "# truncate everything after the 4th decimal\n",
    "data = np.trunc(1000 * data) / 1000\n",
    "\n",
    "train_data, val_data, test_data = create_splits(input_data=data, without_val=False)\n",
    "\n",
    "train_data, scaler = normalize(train_data, features=train_data.columns)\n",
    "val_data, _ = normalize(val_data, features=val_data.columns, scaler=scaler)\n",
    "test_data, _ = normalize(data=test_data, features=test_data.columns, scaler=scaler)"
   ]
  },
  {
   "cell_type": "markdown",
   "id": "92515ed7-a413-4614-af4c-f9068f51f3e6",
   "metadata": {},
   "source": [
    "### Build model"
   ]
  },
  {
   "cell_type": "code",
   "execution_count": 33,
   "id": "64bd311c-34e0-4810-b899-7107caf4752e",
   "metadata": {},
   "outputs": [
    {
     "name": "stdout",
     "output_type": "stream",
     "text": [
      "Model: \"encoder\"\n",
      "__________________________________________________________________________________________________\n",
      " Layer (type)                   Output Shape         Param #     Connected to                     \n",
      "==================================================================================================\n",
      " input_6 (InputLayer)           [(None, 5000)]       0           []                               \n",
      "                                                                                                  \n",
      " dense_17 (Dense)               (None, 2500)         12502500    ['input_6[0][0]']                \n",
      "                                                                                                  \n",
      " dense_18 (Dense)               (None, 1666)         4166666     ['dense_17[0][0]']               \n",
      "                                                                                                  \n",
      " dense_19 (Dense)               (None, 1250)         2083750     ['dense_18[0][0]']               \n",
      "                                                                                                  \n",
      " z_mean (Dense)                 (None, 500)          625500      ['dense_19[0][0]']               \n",
      "                                                                                                  \n",
      " z_log_var (Dense)              (None, 500)          625500      ['dense_19[0][0]']               \n",
      "                                                                                                  \n",
      " sampling_3 (Sampling)          (None, 500)          0           ['z_mean[0][0]',                 \n",
      "                                                                  'z_log_var[0][0]']              \n",
      "                                                                                                  \n",
      "==================================================================================================\n",
      "Total params: 20,003,916\n",
      "Trainable params: 20,003,916\n",
      "Non-trainable params: 0\n",
      "__________________________________________________________________________________________________\n",
      "Model: \"decoder\"\n",
      "_________________________________________________________________\n",
      " Layer (type)                Output Shape              Param #   \n",
      "=================================================================\n",
      " input_7 (InputLayer)        [(None, 500)]             0         \n",
      "                                                                 \n",
      " dense_20 (Dense)            (None, 1250)              626250    \n",
      "                                                                 \n",
      " dense_21 (Dense)            (None, 1666)              2084166   \n",
      "                                                                 \n",
      " dense_22 (Dense)            (None, 2500)              4167500   \n",
      "                                                                 \n",
      " dense_23 (Dense)            (None, 5000)              12505000  \n",
      "                                                                 \n",
      "=================================================================\n",
      "Total params: 19,382,916\n",
      "Trainable params: 19,382,916\n",
      "Non-trainable params: 0\n",
      "_________________________________________________________________\n",
      "Epoch 1/100\n",
      "45/45 [==============================] - 10s 193ms/step - loss: 224.5438 - reconstruction_loss: 0.7030 - kl_loss: 70.3237 - val_total_loss: 0.0000e+00 - val_reconstruction_loss: 0.0000e+00 - val_kl_loss: 0.0000e+00\n",
      "Epoch 2/100\n",
      "45/45 [==============================] - 8s 189ms/step - loss: 0.7076 - reconstruction_loss: 0.6986 - kl_loss: 0.0081 - val_total_loss: 0.0000e+00 - val_reconstruction_loss: 0.0000e+00 - val_kl_loss: 0.0000e+00\n",
      "Epoch 3/100\n",
      "45/45 [==============================] - 9s 190ms/step - loss: 0.7047 - reconstruction_loss: 0.6986 - kl_loss: 0.0053 - val_total_loss: 0.0000e+00 - val_reconstruction_loss: 0.0000e+00 - val_kl_loss: 0.0000e+00\n",
      "Epoch 4/100\n",
      "45/45 [==============================] - 9s 209ms/step - loss: 0.7024 - reconstruction_loss: 0.6986 - kl_loss: 0.0034 - val_total_loss: 0.0000e+00 - val_reconstruction_loss: 0.0000e+00 - val_kl_loss: 0.0000e+00\n",
      "Epoch 5/100\n",
      "45/45 [==============================] - 10s 226ms/step - loss: 0.7011 - reconstruction_loss: 0.6986 - kl_loss: 0.0021 - val_total_loss: 0.0000e+00 - val_reconstruction_loss: 0.0000e+00 - val_kl_loss: 0.0000e+00\n",
      "Epoch 6/100\n",
      "45/45 [==============================] - 9s 208ms/step - loss: 0.7000 - reconstruction_loss: 0.6986 - kl_loss: 0.0014 - val_total_loss: 0.0000e+00 - val_reconstruction_loss: 0.0000e+00 - val_kl_loss: 0.0000e+00\n",
      "Epoch 7/100\n",
      "45/45 [==============================] - 9s 202ms/step - loss: 0.6993 - reconstruction_loss: 0.6987 - kl_loss: 9.3723e-04 - val_total_loss: 0.0000e+00 - val_reconstruction_loss: 0.0000e+00 - val_kl_loss: 0.0000e+00\n",
      "Epoch 8/100\n",
      "45/45 [==============================] - 9s 211ms/step - loss: 0.6991 - reconstruction_loss: 0.6986 - kl_loss: 6.5881e-04 - val_total_loss: 0.0000e+00 - val_reconstruction_loss: 0.0000e+00 - val_kl_loss: 0.0000e+00\n"
     ]
    }
   ],
   "source": [
    "input_dimensions = train_data.shape[1]\n",
    "\n",
    "encoder_inputs = keras.Input(shape=(input_dimensions,))\n",
    "x = layers.Dense(units=input_dimensions / 2, activation=\"relu\")(encoder_inputs)\n",
    "x = layers.Dense(units=input_dimensions / 3, activation=\"relu\")(x)\n",
    "x = layers.Dense(units=input_dimensions / 4, activation=\"relu\")(x)\n",
    "\n",
    "z_mean = layers.Dense(latent_dim, name=\"z_mean\")(x)\n",
    "z_log_var = layers.Dense(latent_dim, name=\"z_log_var\")(x)\n",
    "z = Sampling()([z_mean, z_log_var])\n",
    "encoder = keras.Model(encoder_inputs, [z_mean, z_log_var, z], name=\"encoder\")\n",
    "encoder.summary()\n",
    "\n",
    "latent_inputs = keras.Input(shape=(latent_dim,))\n",
    "x = layers.Dense(units=input_dimensions / 4, activation=\"relu\")(latent_inputs)\n",
    "x = layers.Dense(units=input_dimensions / 3, activation=\"relu\")(x)\n",
    "x = layers.Dense(units=input_dimensions / 2, activation=\"relu\")(x)\n",
    "\n",
    "decoder_outputs = layers.Dense(units=input_dimensions, activation=\"relu\")(x)\n",
    "decoder = keras.Model(latent_inputs, decoder_outputs, name=\"decoder\")\n",
    "decoder.summary()\n",
    "\n",
    "vae: VAE = VAE(encoder, decoder)\n",
    "vae.compile(optimizer=keras.optimizers.Adam())\n",
    "\n",
    "# vae.summary()\n",
    "\n",
    "callbacks = []\n",
    "\n",
    "early_stop = EarlyStopping(monitor=\"reconstruction_loss\",\n",
    "                           mode=\"min\", patience=5,\n",
    "                           restore_best_weights=True)\n",
    "callbacks.append(early_stop)\n",
    "\n",
    "csv_logger = CSVLogger(os.path.join(base_path, 'training.log'),\n",
    "                       separator='\\t')\n",
    "callbacks.append(csv_logger)\n",
    "\n",
    "history = vae.fit(train_data,\n",
    "                  callbacks=callbacks,\n",
    "                  validation_data=(val_data, val_data),\n",
    "                  epochs=epochs, batch_size=batch_size)\n"
   ]
  },
  {
   "cell_type": "code",
   "execution_count": null,
   "id": "f24c727f-732d-47b3-9971-baee7f96f7a0",
   "metadata": {},
   "outputs": [],
   "source": []
  }
 ],
 "metadata": {
  "kernelspec": {
   "display_name": "Python 3 (ipykernel)",
   "language": "python",
   "name": "python3"
  },
  "language_info": {
   "codemirror_mode": {
    "name": "ipython",
    "version": 3
   },
   "file_extension": ".py",
   "mimetype": "text/x-python",
   "name": "python",
   "nbconvert_exporter": "python",
   "pygments_lexer": "ipython3",
   "version": "3.9.4"
  }
 },
 "nbformat": 4,
 "nbformat_minor": 5
}
