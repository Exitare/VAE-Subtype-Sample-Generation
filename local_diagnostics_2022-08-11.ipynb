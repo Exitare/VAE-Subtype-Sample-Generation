{
 "cells": [
  {
   "cell_type": "code",
   "execution_count": null,
   "id": "bbcbc5ff-7057-439b-b8a3-5acb724e32af",
   "metadata": {},
   "outputs": [],
   "source": [
    "# check for venv activation, return specific error"
   ]
  },
  {
   "cell_type": "code",
   "execution_count": null,
   "id": "aedc568a-7e64-4632-8f7e-40a458f9290a",
   "metadata": {},
   "outputs": [],
   "source": [
    "# numpy intall fix - order of env setup ops\n",
    "# from local command line:"
   ]
  },
  {
   "cell_type": "code",
   "execution_count": null,
   "id": "3a9b981d-3005-46ef-8c6a-89f066527ada",
   "metadata": {},
   "outputs": [],
   "source": [
    "source venv/bin/activate"
   ]
  },
  {
   "cell_type": "code",
   "execution_count": null,
   "id": "0cee99d7-fa1a-4a70-af21-737a1d90371e",
   "metadata": {},
   "outputs": [],
   "source": [
    "pip install -r requirements.txt"
   ]
  }
 ],
 "metadata": {
  "kernelspec": {
   "display_name": "Python 3 (ipykernel)",
   "language": "python",
   "name": "python3"
  },
  "language_info": {
   "codemirror_mode": {
    "name": "ipython",
    "version": 3
   },
   "file_extension": ".py",
   "mimetype": "text/x-python",
   "name": "python",
   "nbconvert_exporter": "python",
   "pygments_lexer": "ipython3",
   "version": "3.9.7"
  }
 },
 "nbformat": 4,
 "nbformat_minor": 5
}
