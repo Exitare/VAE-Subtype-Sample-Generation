{
 "cells": [
  {
   "cell_type": "code",
   "execution_count": null,
   "id": "bbcbc5ff-7057-439b-b8a3-5acb724e32af",
   "metadata": {},
   "outputs": [],
   "source": [
    "# check for venv activation, return specific error"
   ]
  },
  {
   "cell_type": "code",
   "execution_count": null,
   "id": "aedc568a-7e64-4632-8f7e-40a458f9290a",
   "metadata": {},
   "outputs": [],
   "source": [
    "# numpy install fix - order of env setup ops\n",
    "# from local command line:"
   ]
  },
  {
   "cell_type": "code",
   "execution_count": null,
   "id": "3a9b981d-3005-46ef-8c6a-89f066527ada",
   "metadata": {},
   "outputs": [],
   "source": [
    "source venv/bin/activate"
   ]
  },
  {
   "cell_type": "code",
   "execution_count": null,
   "id": "0cee99d7-fa1a-4a70-af21-737a1d90371e",
   "metadata": {},
   "outputs": [],
   "source": [
    "pip install -r requirements.txt"
   ]
  },
  {
   "cell_type": "code",
   "execution_count": 1,
   "id": "1adfb62d-6e6f-456b-be4d-efb58457bf9c",
   "metadata": {},
   "outputs": [
    {
     "data": {
      "text/plain": [
       "'/Users/karlberb/work/sample_count/smpl_gen/VAE-Subtype-Sample-Generation'"
      ]
     },
     "execution_count": 1,
     "metadata": {},
     "output_type": "execute_result"
    }
   ],
   "source": [
    "pwd # This is the real repo on the local computer"
   ]
  },
  {
   "cell_type": "code",
   "execution_count": 2,
   "id": "cb86f7e4-c643-4142-95aa-6113aab0d58b",
   "metadata": {},
   "outputs": [
    {
     "name": "stdout",
     "output_type": "stream",
     "text": [
      "\u001b[34mdata\u001b[m\u001b[m/                               readme.md\n",
      "\u001b[34merror_reports\u001b[m\u001b[m/                      requirements.txt\n",
      "fbrctd.sh                           sample_gen.py\n",
      "\u001b[34mfbrctd_00_results\u001b[m\u001b[m/                  sample_gen.sh\n",
      "\u001b[34mimage_gen\u001b[m\u001b[m/                          sample_gen_data.sh\n",
      "\u001b[34mlibrary\u001b[m\u001b[m/                            sample_generator.py\n",
      "local_diagnostics_2022-08-11.ipynb  \u001b[34mscript_archive\u001b[m\u001b[m/\n",
      "\u001b[34moutput_reports\u001b[m\u001b[m/                     \u001b[34mvenv\u001b[m\u001b[m/\n"
     ]
    }
   ],
   "source": [
    "ls"
   ]
  },
  {
   "cell_type": "code",
   "execution_count": null,
   "id": "4e14be13-46f7-4254-b603-35655547b2ca",
   "metadata": {},
   "outputs": [],
   "source": [
    "# Next actions:\n",
    "# Copy out fbrctd_00_results to sample_gen_central_figure folder\n",
    "# Make feature shape progression experiment flowchart\n",
    "# Make summary stats of TCGA files ^\n",
    "# Port elab content to google doc\n",
    "# Start figure slides doc - done"
   ]
  }
 ],
 "metadata": {
  "kernelspec": {
   "display_name": "Python 3 (ipykernel)",
   "language": "python",
   "name": "python3"
  },
  "language_info": {
   "codemirror_mode": {
    "name": "ipython",
    "version": 3
   },
   "file_extension": ".py",
   "mimetype": "text/x-python",
   "name": "python",
   "nbconvert_exporter": "python",
   "pygments_lexer": "ipython3",
   "version": "3.9.7"
  }
 },
 "nbformat": 4,
 "nbformat_minor": 5
}
