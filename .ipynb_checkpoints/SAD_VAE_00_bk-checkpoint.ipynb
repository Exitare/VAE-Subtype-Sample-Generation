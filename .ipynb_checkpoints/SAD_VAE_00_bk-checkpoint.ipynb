{
 "cells": [
  {
   "cell_type": "code",
   "execution_count": 1,
   "id": "089d0e55-9324-4889-a8c2-ba42889ba715",
   "metadata": {},
   "outputs": [
    {
     "name": "stdout",
     "output_type": "stream",
     "text": [
      "Interactive namespace is empty.\n"
     ]
    }
   ],
   "source": [
    "%whos"
   ]
  },
  {
   "cell_type": "code",
   "execution_count": 2,
   "id": "250b7ff3-dc25-4049-9485-fec9565767f0",
   "metadata": {},
   "outputs": [],
   "source": [
    "from tensorflow.keras.models import Model\n",
    "from tensorflow import keras\n",
    "from tensorflow.keras import layers\n",
    "import pandas as pd\n",
    "import numpy as np\n",
    "from tensorflow.keras.callbacks import EarlyStopping, CSVLogger\n",
    "from typing import Tuple\n",
    "from sklearn.preprocessing import StandardScaler, MinMaxScaler"
   ]
  },
  {
   "cell_type": "code",
   "execution_count": null,
   "id": "ab96bc83-2030-4a61-88ef-be5dc6839e7c",
   "metadata": {},
   "outputs": [],
   "source": [
    "# Please download this file from One Drive and test locally\n",
    "# Show and explain all steps to pinpoint failure point\n",
    "# Model must run or report exact failure point and specific plan to fix by 5pm\n",
    "# write decoded samples to file, send to UMAP, upload to drive by 5pm, 9-30"
   ]
  },
  {
   "cell_type": "code",
   "execution_count": null,
   "id": "d82840f8-7232-41b3-9ef4-68a8816e93f2",
   "metadata": {},
   "outputs": [],
   "source": [
    "# Ideas:\n",
    "# Run UMAP on working model, colors are by subtype\n",
    "# must have labels"
   ]
  },
  {
   "cell_type": "code",
   "execution_count": 2,
   "id": "c3d595f8-a25d-42a9-a202-6eff4e051847",
   "metadata": {},
   "outputs": [],
   "source": [
    "eight_by_five = pd.read_csv(\n",
    "    '/Users/karlberb/work/sample_count/smpl_gen/architechture/X_intersect_5k_mad_feats_cohorts_n25.tsv',\n",
    "    sep = '\\t', index_col = 0)"
   ]
  },
  {
   "cell_type": "code",
   "execution_count": 3,
   "id": "f94840ed-cf8a-40a9-86ef-1040c65ad01a",
   "metadata": {},
   "outputs": [],
   "source": [
    "ebf_y = pd.read_csv(\n",
    "    '/Users/karlberb/work/sample_count/smpl_gen/architechture/y_intersect_5k_mad_feats_cohorts_n25.tsv',\n",
    "    sep = '\\t', index_col = 0)"
   ]
  },
  {
   "cell_type": "code",
   "execution_count": 4,
   "id": "bac0db9f-f6e4-40ba-a41a-484b79166766",
   "metadata": {},
   "outputs": [
    {
     "data": {
      "text/html": [
       "<div>\n",
       "<style scoped>\n",
       "    .dataframe tbody tr th:only-of-type {\n",
       "        vertical-align: middle;\n",
       "    }\n",
       "\n",
       "    .dataframe tbody tr th {\n",
       "        vertical-align: top;\n",
       "    }\n",
       "\n",
       "    .dataframe thead th {\n",
       "        text-align: right;\n",
       "    }\n",
       "</style>\n",
       "<table border=\"1\" class=\"dataframe\">\n",
       "  <thead>\n",
       "    <tr style=\"text-align: right;\">\n",
       "      <th></th>\n",
       "      <th>Labels</th>\n",
       "    </tr>\n",
       "  </thead>\n",
       "  <tbody>\n",
       "    <tr>\n",
       "      <th>TCGA-OR-A5J1</th>\n",
       "      <td>ACC_2</td>\n",
       "    </tr>\n",
       "    <tr>\n",
       "      <th>TCGA-OR-A5J2</th>\n",
       "      <td>ACC_2</td>\n",
       "    </tr>\n",
       "    <tr>\n",
       "      <th>TCGA-OR-A5J3</th>\n",
       "      <td>ACC_3</td>\n",
       "    </tr>\n",
       "    <tr>\n",
       "      <th>TCGA-OR-A5J5</th>\n",
       "      <td>ACC_3</td>\n",
       "    </tr>\n",
       "    <tr>\n",
       "      <th>TCGA-OR-A5J6</th>\n",
       "      <td>ACC_1</td>\n",
       "    </tr>\n",
       "    <tr>\n",
       "      <th>...</th>\n",
       "      <td>...</td>\n",
       "    </tr>\n",
       "    <tr>\n",
       "      <th>TCGA-WC-AA9E</th>\n",
       "      <td>UVM_3</td>\n",
       "    </tr>\n",
       "    <tr>\n",
       "      <th>TCGA-YZ-A980</th>\n",
       "      <td>UVM_1</td>\n",
       "    </tr>\n",
       "    <tr>\n",
       "      <th>TCGA-YZ-A982</th>\n",
       "      <td>UVM_2</td>\n",
       "    </tr>\n",
       "    <tr>\n",
       "      <th>TCGA-YZ-A983</th>\n",
       "      <td>UVM_3</td>\n",
       "    </tr>\n",
       "    <tr>\n",
       "      <th>TCGA-YZ-A985</th>\n",
       "      <td>UVM_4</td>\n",
       "    </tr>\n",
       "  </tbody>\n",
       "</table>\n",
       "<p>8009 rows × 1 columns</p>\n",
       "</div>"
      ],
      "text/plain": [
       "             Labels\n",
       "TCGA-OR-A5J1  ACC_2\n",
       "TCGA-OR-A5J2  ACC_2\n",
       "TCGA-OR-A5J3  ACC_3\n",
       "TCGA-OR-A5J5  ACC_3\n",
       "TCGA-OR-A5J6  ACC_1\n",
       "...             ...\n",
       "TCGA-WC-AA9E  UVM_3\n",
       "TCGA-YZ-A980  UVM_1\n",
       "TCGA-YZ-A982  UVM_2\n",
       "TCGA-YZ-A983  UVM_3\n",
       "TCGA-YZ-A985  UVM_4\n",
       "\n",
       "[8009 rows x 1 columns]"
      ]
     },
     "execution_count": 4,
     "metadata": {},
     "output_type": "execute_result"
    }
   ],
   "source": [
    "ebf_y"
   ]
  },
  {
   "cell_type": "code",
   "execution_count": 3,
   "id": "ce5f4f52-606b-4fa0-9e8d-caa8ece0236a",
   "metadata": {},
   "outputs": [
    {
     "data": {
      "text/plain": [
       "(8009, 5000)"
      ]
     },
     "execution_count": 3,
     "metadata": {},
     "output_type": "execute_result"
    }
   ],
   "source": [
    "eight_by_five.shape"
   ]
  },
  {
   "cell_type": "code",
   "execution_count": 4,
   "id": "bb6ce90f-af1f-4936-98c7-1a1fdd933370",
   "metadata": {},
   "outputs": [
    {
     "data": {
      "text/plain": [
       "pandas.core.frame.DataFrame"
      ]
     },
     "execution_count": 4,
     "metadata": {},
     "output_type": "execute_result"
    }
   ],
   "source": [
    "type(eight_by_five)"
   ]
  },
  {
   "cell_type": "code",
   "execution_count": 12,
   "id": "3cf1791f-dad7-44ed-8b65-328d0071a5dc",
   "metadata": {},
   "outputs": [],
   "source": [
    "ebf_ary = np.array(eight_by_five)"
   ]
  },
  {
   "cell_type": "code",
   "execution_count": 13,
   "id": "41ac0d60-e37f-4c54-a8be-b2f03620ab5f",
   "metadata": {},
   "outputs": [
    {
     "data": {
      "text/plain": [
       "(8009, 5000)"
      ]
     },
     "execution_count": 13,
     "metadata": {},
     "output_type": "execute_result"
    }
   ],
   "source": [
    "ebf_ary.shape"
   ]
  },
  {
   "cell_type": "code",
   "execution_count": 14,
   "id": "161aea56-032e-4d70-923b-750987d9d1b6",
   "metadata": {},
   "outputs": [],
   "source": [
    "# Feed this to a model\n",
    "inputs_ebf = keras.Input(shape=(5000))"
   ]
  },
  {
   "cell_type": "code",
   "execution_count": 15,
   "id": "64e3ad15-5709-4c8d-b150-239189d15b36",
   "metadata": {},
   "outputs": [
    {
     "data": {
      "text/plain": [
       "TensorShape([None, 5000])"
      ]
     },
     "execution_count": 15,
     "metadata": {},
     "output_type": "execute_result"
    }
   ],
   "source": [
    "inputs_ebf.shape"
   ]
  },
  {
   "cell_type": "code",
   "execution_count": 16,
   "id": "dbaec7b6-850c-4087-819d-d32b03c65e65",
   "metadata": {},
   "outputs": [
    {
     "data": {
      "text/plain": [
       "tensorflow.python.keras.engine.keras_tensor.KerasTensor"
      ]
     },
     "execution_count": 16,
     "metadata": {},
     "output_type": "execute_result"
    }
   ],
   "source": [
    "type(inputs_ebf)"
   ]
  },
  {
   "cell_type": "markdown",
   "id": "2b3b035a-3929-4a0a-a0a2-fa6d82ae2cb9",
   "metadata": {},
   "source": [
    "# fit() wants two data\n",
    "# Build manually here\n",
    "train_data  \n",
    "val_data"
   ]
  },
  {
   "cell_type": "code",
   "execution_count": null,
   "id": "81b78850-0099-405a-a3f1-984c862eb46a",
   "metadata": {},
   "outputs": [],
   "source": []
  },
  {
   "cell_type": "code",
   "execution_count": 11,
   "id": "e9e653f6-ee9a-4c32-85ff-b175eb909984",
   "metadata": {},
   "outputs": [
    {
     "name": "stdout",
     "output_type": "stream",
     "text": [
      "Variable         Type          Data/Info\n",
      "----------------------------------------\n",
      "CSVLogger        type          <class 'tensorflow.python<...>ras.callbacks.CSVLogger'>\n",
      "EarlyStopping    type          <class 'tensorflow.python<...>callbacks.EarlyStopping'>\n",
      "MinMaxScaler     type          <class 'sklearn.preproces<...>sing._data.MinMaxScaler'>\n",
      "Model            type          <class 'tensorflow.python<...>s.engine.training.Model'>\n",
      "StandardScaler   type          <class 'sklearn.preproces<...>ng._data.StandardScaler'>\n",
      "Tuple            _TupleType    typing.Tuple\n",
      "eight_by_five    DataFrame                   N:GEXP::COL<...>8009 rows x 5000 columns]\n",
      "inspect          module        <module 'inspect' from '/<...>ib/python3.9/inspect.py'>\n",
      "keras            module        <module 'tensorflow.keras<...>rflow/keras/__init__.py'>\n",
      "layers           module        <module 'tensorflow.keras<...>eras/layers/__init__.py'>\n",
      "normalize        function      <function normalize at 0x7fd460bbd8b0>\n",
      "np               module        <module 'numpy' from '/Us<...>kages/numpy/__init__.py'>\n",
      "pd               module        <module 'pandas' from '/U<...>ages/pandas/__init__.py'>\n"
     ]
    }
   ],
   "source": [
    "%whos"
   ]
  },
  {
   "cell_type": "markdown",
   "id": "e8aa2ee5-ed15-40b8-9847-07518d99f56f",
   "metadata": {
    "tags": []
   },
   "source": [
    "### Normalization"
   ]
  },
  {
   "cell_type": "code",
   "execution_count": 5,
   "id": "3af42af3-6ed3-4216-b80a-b6e3a3dc15f9",
   "metadata": {},
   "outputs": [],
   "source": [
    "# This is not a class so it is not inheriting anything\n",
    "def normalize(data: pd.DataFrame,\n",
    "              features: list, # In case labels are columns?\n",
    "              feature_range: Tuple = None, # Please annotate\n",
    "              scaler=None) -> (pd.DataFrame, any): # Please annotate\n",
    "    \n",
    "        # Describe logic here\n",
    "        if feature_range is not None and scaler is None:\n",
    "            scaler = MinMaxScaler(feature_range=feature_range)\n",
    "            scaler.fit(data)\n",
    "            \n",
    "        elif feature_range is None and scaler is None:\n",
    "            scaler = MinMaxScaler(feature_range=(-1, 1))\n",
    "            scaler.fit(data)\n",
    "\n",
    "        data = scaler.transform(data) # returns scaled data object\n",
    "                                      # based on passed feature_range\n",
    "\n",
    "        return pd.DataFrame(columns=features, data=data), scaler"
   ]
  },
  {
   "cell_type": "code",
   "execution_count": 6,
   "id": "9fc19e4f-5199-4d4f-8e00-d61361543f70",
   "metadata": {},
   "outputs": [
    {
     "data": {
      "text/plain": [
       "function"
      ]
     },
     "execution_count": 6,
     "metadata": {},
     "output_type": "execute_result"
    }
   ],
   "source": [
    "type(normalize)"
   ]
  },
  {
   "cell_type": "code",
   "execution_count": 7,
   "id": "ccf92fcc-373a-4aaf-b38b-94a090b2f9d6",
   "metadata": {},
   "outputs": [],
   "source": [
    "normalize.__doc__"
   ]
  },
  {
   "cell_type": "code",
   "execution_count": 8,
   "id": "67bed7ed-117f-4462-bf29-3979a4033f58",
   "metadata": {},
   "outputs": [],
   "source": [
    "import inspect"
   ]
  },
  {
   "cell_type": "code",
   "execution_count": null,
   "id": "4974f400-3709-47e0-b11e-9d99a60d4846",
   "metadata": {},
   "outputs": [],
   "source": [
    "# Is there fake data / test data to run this model on?"
   ]
  },
  {
   "cell_type": "code",
   "execution_count": 10,
   "id": "715e13a2-3244-4131-807e-61a13aab6cc9",
   "metadata": {
    "collapsed": true,
    "jupyter": {
     "outputs_hidden": true
    },
    "tags": []
   },
   "outputs": [
    {
     "data": {
      "text/plain": [
       "[('__annotations__',\n",
       "  {'data': pandas.core.frame.DataFrame,\n",
       "   'features': list,\n",
       "   'feature_range': typing.Tuple,\n",
       "   'return': (pandas.core.frame.DataFrame, <function any(iterable, /)>)}),\n",
       " ('__call__',\n",
       "  <method-wrapper '__call__' of function object at 0x7fd460bbd8b0>),\n",
       " ('__class__', function),\n",
       " ('__closure__', None),\n",
       " ('__code__',\n",
       "  <code object normalize at 0x7fd498518190, file \"/var/folders/5v/88tvwqd94gs4dfr3h6rt1_w0qd13bg/T/ipykernel_96665/4120225083.py\", line 1>),\n",
       " ('__defaults__', (None, None)),\n",
       " ('__delattr__',\n",
       "  <method-wrapper '__delattr__' of function object at 0x7fd460bbd8b0>),\n",
       " ('__dict__', {}),\n",
       " ('__dir__', <function function.__dir__()>),\n",
       " ('__doc__', None),\n",
       " ('__eq__', <method-wrapper '__eq__' of function object at 0x7fd460bbd8b0>),\n",
       " ('__format__', <function function.__format__(format_spec, /)>),\n",
       " ('__ge__', <method-wrapper '__ge__' of function object at 0x7fd460bbd8b0>),\n",
       " ('__get__', <method-wrapper '__get__' of function object at 0x7fd460bbd8b0>),\n",
       " ('__getattribute__',\n",
       "  <method-wrapper '__getattribute__' of function object at 0x7fd460bbd8b0>),\n",
       " ('__globals__',\n",
       "  {'__name__': '__main__',\n",
       "   '__doc__': 'Automatically created module for IPython interactive environment',\n",
       "   '__package__': None,\n",
       "   '__loader__': None,\n",
       "   '__spec__': None,\n",
       "   '__builtin__': <module 'builtins' (built-in)>,\n",
       "   '__builtins__': <module 'builtins' (built-in)>,\n",
       "   '_ih': ['',\n",
       "    'from tensorflow.keras.models import Model\\nfrom tensorflow import keras\\nfrom tensorflow.keras import layers\\nimport pandas as pd\\nimport numpy as np\\nfrom tensorflow.keras.callbacks import EarlyStopping, CSVLogger\\nfrom typing import Tuple\\nfrom sklearn.preprocessing import StandardScaler, MinMaxScaler',\n",
       "    \"eight_by_five = pd.read_csv(\\n    '/Users/karlberb/work/sample_count/smpl_gen/architechture/X_intersect_5k_mad_feats_cohorts_n25.tsv',\\n    sep = '\\\\t', index_col = 0)\",\n",
       "    'eight_by_five.shape',\n",
       "    'type(eight_by_five)',\n",
       "    'def normalize(data: pd.DataFrame, features: list, feature_range: Tuple = None, scaler=None) -> (pd.DataFrame, any):\\n        if feature_range is not None and scaler is None:\\n            scaler = MinMaxScaler(feature_range=feature_range)\\n            scaler.fit(data)\\n        elif feature_range is None and scaler is None:\\n            scaler = MinMaxScaler(feature_range=(-1, 1))\\n            scaler.fit(data)\\n\\n        data = scaler.transform(data)\\n\\n        return pd.DataFrame(columns=features, data=data), scaler',\n",
       "    'type(normalize)',\n",
       "    'normalize.__doc__',\n",
       "    'import inspect',\n",
       "    'inpsect.getmembers(normalize)',\n",
       "    'inspect.getmembers(normalize)'],\n",
       "   '_oh': {3: (8009, 5000), 4: pandas.core.frame.DataFrame, 6: function},\n",
       "   '_dh': ['/Users/karlberb/work/sample_count/smpl_gen/VAE-Subtype-Sample-Generation'],\n",
       "   'In': ['',\n",
       "    'from tensorflow.keras.models import Model\\nfrom tensorflow import keras\\nfrom tensorflow.keras import layers\\nimport pandas as pd\\nimport numpy as np\\nfrom tensorflow.keras.callbacks import EarlyStopping, CSVLogger\\nfrom typing import Tuple\\nfrom sklearn.preprocessing import StandardScaler, MinMaxScaler',\n",
       "    \"eight_by_five = pd.read_csv(\\n    '/Users/karlberb/work/sample_count/smpl_gen/architechture/X_intersect_5k_mad_feats_cohorts_n25.tsv',\\n    sep = '\\\\t', index_col = 0)\",\n",
       "    'eight_by_five.shape',\n",
       "    'type(eight_by_five)',\n",
       "    'def normalize(data: pd.DataFrame, features: list, feature_range: Tuple = None, scaler=None) -> (pd.DataFrame, any):\\n        if feature_range is not None and scaler is None:\\n            scaler = MinMaxScaler(feature_range=feature_range)\\n            scaler.fit(data)\\n        elif feature_range is None and scaler is None:\\n            scaler = MinMaxScaler(feature_range=(-1, 1))\\n            scaler.fit(data)\\n\\n        data = scaler.transform(data)\\n\\n        return pd.DataFrame(columns=features, data=data), scaler',\n",
       "    'type(normalize)',\n",
       "    'normalize.__doc__',\n",
       "    'import inspect',\n",
       "    'inpsect.getmembers(normalize)',\n",
       "    'inspect.getmembers(normalize)'],\n",
       "   'Out': {3: (8009, 5000), 4: pandas.core.frame.DataFrame, 6: function},\n",
       "   'get_ipython': <bound method InteractiveShell.get_ipython of <ipykernel.zmqshell.ZMQInteractiveShell object at 0x7fd4a3a75b20>>,\n",
       "   'exit': <IPython.core.autocall.ZMQExitAutocall at 0x7fd4a3a9c8e0>,\n",
       "   'quit': <IPython.core.autocall.ZMQExitAutocall at 0x7fd4a3a9c8e0>,\n",
       "   '_': function,\n",
       "   '__': pandas.core.frame.DataFrame,\n",
       "   '___': (8009, 5000),\n",
       "   '_i': 'inpsect.getmembers(normalize)',\n",
       "   '_ii': 'import inspect',\n",
       "   '_iii': 'normalize.__doc__',\n",
       "   '_i1': 'from tensorflow.keras.models import Model\\nfrom tensorflow import keras\\nfrom tensorflow.keras import layers\\nimport pandas as pd\\nimport numpy as np\\nfrom tensorflow.keras.callbacks import EarlyStopping, CSVLogger\\nfrom typing import Tuple\\nfrom sklearn.preprocessing import StandardScaler, MinMaxScaler',\n",
       "   'Model': tensorflow.python.keras.engine.training.Model,\n",
       "   'keras': <module 'tensorflow.keras' from '/Users/karlberb/opt/anaconda3/lib/python3.9/site-packages/tensorflow/keras/__init__.py'>,\n",
       "   'layers': <module 'tensorflow.keras.layers' from '/Users/karlberb/opt/anaconda3/lib/python3.9/site-packages/tensorflow/keras/layers/__init__.py'>,\n",
       "   'pd': <module 'pandas' from '/Users/karlberb/opt/anaconda3/lib/python3.9/site-packages/pandas/__init__.py'>,\n",
       "   'np': <module 'numpy' from '/Users/karlberb/opt/anaconda3/lib/python3.9/site-packages/numpy/__init__.py'>,\n",
       "   'EarlyStopping': tensorflow.python.keras.callbacks.EarlyStopping,\n",
       "   'CSVLogger': tensorflow.python.keras.callbacks.CSVLogger,\n",
       "   'Tuple': typing.Tuple,\n",
       "   'StandardScaler': sklearn.preprocessing._data.StandardScaler,\n",
       "   'MinMaxScaler': sklearn.preprocessing._data.MinMaxScaler,\n",
       "   '_i2': \"eight_by_five = pd.read_csv(\\n    '/Users/karlberb/work/sample_count/smpl_gen/architechture/X_intersect_5k_mad_feats_cohorts_n25.tsv',\\n    sep = '\\\\t', index_col = 0)\",\n",
       "   'eight_by_five':               N:GEXP::COL1A1:1277:  N:GEXP::ALB:213:  N:GEXP::FN1:2335:  \\\n",
       "   TCGA-OR-A5J1                485.59            1.4409            1558.60   \n",
       "   TCGA-OR-A5J2               4269.10            5.2342           20086.00   \n",
       "   TCGA-OR-A5J3               1164.90            5.3325            7744.60   \n",
       "   TCGA-OR-A5J5               1531.40          312.9400           17322.00   \n",
       "   TCGA-OR-A5J6                376.11            1.1177             787.43   \n",
       "   ...                            ...               ...                ...   \n",
       "   TCGA-WC-AA9E                 76.65            0.8861             403.63   \n",
       "   TCGA-YZ-A980               1841.30            0.8220            2852.40   \n",
       "   TCGA-YZ-A982                144.25            0.0000             628.32   \n",
       "   TCGA-YZ-A983                490.15            0.6158             774.01   \n",
       "   TCGA-YZ-A985               1777.50            0.0000            1118.50   \n",
       "   \n",
       "                 N:GEXP::GAPDH:2597:  N:GEXP::ACTB:60:  N:GEXP::KRT5:3852:  \\\n",
       "   TCGA-OR-A5J1              57986.0           68807.0              0.0000   \n",
       "   TCGA-OR-A5J2              45123.0           71065.0              0.8053   \n",
       "   TCGA-OR-A5J3             271000.0           73505.0              1.1850   \n",
       "   TCGA-OR-A5J5             127710.0          111060.0              0.0000   \n",
       "   TCGA-OR-A5J6              45653.0           52458.0              0.0000   \n",
       "   ...                           ...               ...                 ...   \n",
       "   TCGA-WC-AA9E              56811.0           69981.0             30.5720   \n",
       "   TCGA-YZ-A980             103200.0           44996.0              1.2330   \n",
       "   TCGA-YZ-A982              59826.0           82306.0              7.0796   \n",
       "   TCGA-YZ-A983              83361.0           37870.0             53.5710   \n",
       "   TCGA-YZ-A985             249740.0           54427.0              0.0000   \n",
       "   \n",
       "                 N:GEXP::FTL:2512:  N:GEXP::EEF1A1:1915:  N:GEXP::B2M:567:  \\\n",
       "   TCGA-OR-A5J1            13570.0               33046.0           18943.0   \n",
       "   TCGA-OR-A5J2            59215.0               61616.0           17621.0   \n",
       "   TCGA-OR-A5J3            56320.0               77490.0           29841.0   \n",
       "   TCGA-OR-A5J5            40738.0               40610.0            6510.5   \n",
       "   TCGA-OR-A5J6           166900.0               79786.0           39353.0   \n",
       "   ...                         ...                   ...               ...   \n",
       "   TCGA-WC-AA9E            37423.0               98720.0           16375.0   \n",
       "   TCGA-YZ-A980            48825.0              101630.0           29023.0   \n",
       "   TCGA-YZ-A982            73261.0               64212.0            7694.7   \n",
       "   TCGA-YZ-A983            32539.0              348050.0           10348.0   \n",
       "   TCGA-YZ-A985            40780.0              153050.0           21848.0   \n",
       "   \n",
       "                 N:GEXP::COL3A1:1281:  ...  N:GEXP::SMURF1:57154:  \\\n",
       "   TCGA-OR-A5J1                325.65  ...                2448.60   \n",
       "   TCGA-OR-A5J2              13904.00  ...                1632.40   \n",
       "   TCGA-OR-A5J3               1450.50  ...                1785.50   \n",
       "   TCGA-OR-A5J5                749.03  ...                1209.10   \n",
       "   TCGA-OR-A5J6                415.23  ...                 805.25   \n",
       "   ...                            ...  ...                    ...   \n",
       "   TCGA-WC-AA9E                922.02  ...                1122.70   \n",
       "   TCGA-YZ-A980               1208.40  ...                 815.75   \n",
       "   TCGA-YZ-A982                152.21  ...                 924.24   \n",
       "   TCGA-YZ-A983                592.98  ...                1221.20   \n",
       "   TCGA-YZ-A985               1128.70  ...                1381.70   \n",
       "   \n",
       "                 N:GEXP::GNPNAT1:64841:  N:GEXP::DMXL1:1657:  \\\n",
       "   TCGA-OR-A5J1                  383.77               640.73   \n",
       "   TCGA-OR-A5J2                  525.03               801.24   \n",
       "   TCGA-OR-A5J3                  674.86              1148.30   \n",
       "   TCGA-OR-A5J5                  254.07              1507.40   \n",
       "   TCGA-OR-A5J6                  245.90               810.34   \n",
       "   ...                              ...                  ...   \n",
       "   TCGA-WC-AA9E                 1078.40               621.62   \n",
       "   TCGA-YZ-A980                  254.42               886.97   \n",
       "   TCGA-YZ-A982                  233.63               142.48   \n",
       "   TCGA-YZ-A983                  489.53               900.25   \n",
       "   TCGA-YZ-A985                  264.30               226.87   \n",
       "   \n",
       "                 N:GEXP::AKT3:10000:  N:GEXP::ProSAPiP1:9762:  \\\n",
       "   TCGA-OR-A5J1               853.03                   243.04   \n",
       "   TCGA-OR-A5J2               678.84                   501.27   \n",
       "   TCGA-OR-A5J3               250.04                   267.22   \n",
       "   TCGA-OR-A5J5               469.40                   307.51   \n",
       "   TCGA-OR-A5J6               357.67                   829.90   \n",
       "   ...                           ...                      ...   \n",
       "   TCGA-WC-AA9E               636.24                   587.50   \n",
       "   TCGA-YZ-A980               958.90                  3026.30   \n",
       "   TCGA-YZ-A982               859.29                   734.51   \n",
       "   TCGA-YZ-A983               364.53                   742.61   \n",
       "   TCGA-YZ-A985               552.42                   205.31   \n",
       "   \n",
       "                 N:GEXP::RANBP3:8498:  N:GEXP::SIDT2:51092:  \\\n",
       "   TCGA-OR-A5J1                3165.2               1013.50   \n",
       "   TCGA-OR-A5J2                1733.7                937.23   \n",
       "   TCGA-OR-A5J3                3143.2               1407.90   \n",
       "   TCGA-OR-A5J5                5023.2                617.51   \n",
       "   TCGA-OR-A5J6                2113.6               2382.70   \n",
       "   ...                            ...                   ...   \n",
       "   TCGA-WC-AA9E                1790.4               2318.20   \n",
       "   TCGA-YZ-A980                2503.9                993.33   \n",
       "   TCGA-YZ-A982                2144.2               1912.80   \n",
       "   TCGA-YZ-A983                1456.9               1181.20   \n",
       "   TCGA-YZ-A985                4059.8               1299.80   \n",
       "   \n",
       "                 N:GEXP::AS3MT:57412:  N:GEXP::ALOX5:240:  N:GEXP::PHF2:5253:  \n",
       "   TCGA-OR-A5J1                133.53             90.7780             1230.10  \n",
       "   TCGA-OR-A5J2               1985.00             26.5740             1115.70  \n",
       "   TCGA-OR-A5J3              16851.00             20.1450              798.70  \n",
       "   TCGA-OR-A5J5              26278.00             61.1930             2089.10  \n",
       "   TCGA-OR-A5J6              15389.00            156.4800              452.12  \n",
       "   ...                            ...                 ...                 ...  \n",
       "   TCGA-WC-AA9E                381.48              4.4307             1086.00  \n",
       "   TCGA-YZ-A980                248.25             71.9280             1382.70  \n",
       "   TCGA-YZ-A982                363.70             23.0090             1319.50  \n",
       "   TCGA-YZ-A983                100.98             21.5520              942.73  \n",
       "   TCGA-YZ-A985                 82.42              7.9403             1137.70  \n",
       "   \n",
       "   [8009 rows x 5000 columns],\n",
       "   '_i3': 'eight_by_five.shape',\n",
       "   '_3': (8009, 5000),\n",
       "   '_i4': 'type(eight_by_five)',\n",
       "   '_4': pandas.core.frame.DataFrame,\n",
       "   '_i5': 'def normalize(data: pd.DataFrame, features: list, feature_range: Tuple = None, scaler=None) -> (pd.DataFrame, any):\\n        if feature_range is not None and scaler is None:\\n            scaler = MinMaxScaler(feature_range=feature_range)\\n            scaler.fit(data)\\n        elif feature_range is None and scaler is None:\\n            scaler = MinMaxScaler(feature_range=(-1, 1))\\n            scaler.fit(data)\\n\\n        data = scaler.transform(data)\\n\\n        return pd.DataFrame(columns=features, data=data), scaler',\n",
       "   'normalize': <function __main__.normalize(data: pandas.core.frame.DataFrame, features: list, feature_range: Tuple = None, scaler=None) -> (<class 'pandas.core.frame.DataFrame'>, <built-in function any>)>,\n",
       "   '_i6': 'type(normalize)',\n",
       "   '_6': function,\n",
       "   '_i7': 'normalize.__doc__',\n",
       "   '_i8': 'import inspect',\n",
       "   'inspect': <module 'inspect' from '/Users/karlberb/opt/anaconda3/lib/python3.9/inspect.py'>,\n",
       "   '_i9': 'inpsect.getmembers(normalize)',\n",
       "   '_i10': 'inspect.getmembers(normalize)'}),\n",
       " ('__gt__', <method-wrapper '__gt__' of function object at 0x7fd460bbd8b0>),\n",
       " ('__hash__',\n",
       "  <method-wrapper '__hash__' of function object at 0x7fd460bbd8b0>),\n",
       " ('__init__',\n",
       "  <method-wrapper '__init__' of function object at 0x7fd460bbd8b0>),\n",
       " ('__init_subclass__', <function function.__init_subclass__>),\n",
       " ('__kwdefaults__', None),\n",
       " ('__le__', <method-wrapper '__le__' of function object at 0x7fd460bbd8b0>),\n",
       " ('__lt__', <method-wrapper '__lt__' of function object at 0x7fd460bbd8b0>),\n",
       " ('__module__', '__main__'),\n",
       " ('__name__', 'normalize'),\n",
       " ('__ne__', <method-wrapper '__ne__' of function object at 0x7fd460bbd8b0>),\n",
       " ('__new__', <function function.__new__(*args, **kwargs)>),\n",
       " ('__qualname__', 'normalize'),\n",
       " ('__reduce__', <function function.__reduce__()>),\n",
       " ('__reduce_ex__', <function function.__reduce_ex__(protocol, /)>),\n",
       " ('__repr__',\n",
       "  <method-wrapper '__repr__' of function object at 0x7fd460bbd8b0>),\n",
       " ('__setattr__',\n",
       "  <method-wrapper '__setattr__' of function object at 0x7fd460bbd8b0>),\n",
       " ('__sizeof__', <function function.__sizeof__()>),\n",
       " ('__str__', <method-wrapper '__str__' of function object at 0x7fd460bbd8b0>),\n",
       " ('__subclasshook__', <function function.__subclasshook__>)]"
      ]
     },
     "execution_count": 10,
     "metadata": {},
     "output_type": "execute_result"
    }
   ],
   "source": [
    "# Why is this function returning info about the real data?\n",
    "inspect.getmembers(normalize)"
   ]
  },
  {
   "cell_type": "code",
   "execution_count": null,
   "id": "791ce195-4c86-4806-9b55-36a7a703c3d4",
   "metadata": {},
   "outputs": [],
   "source": [
    "# End normalize inspections"
   ]
  },
  {
   "cell_type": "markdown",
   "id": "4c3702c8-3bd5-4907-9156-4184cb59a02e",
   "metadata": {},
   "source": [
    "### Split handler - remove for now, split manually above\n",
    "### Do not need three spilts for UMAP"
   ]
  },
  {
   "cell_type": "code",
   "execution_count": null,
   "id": "d730258a-a3c9-4774-8175-235e9f242a32",
   "metadata": {},
   "outputs": [],
   "source": [
    "def create_splits(input_data: pd.DataFrame,\n",
    "                  without_val: bool = False) -> Tuple: # what is this syntax?\n",
    "        \"\"\"\n",
    "        Creates train val test split of the data provided\n",
    "        @param input_data: The input data which should be split\n",
    "        @param without_val: If true only a test and a train set will be created\n",
    "        @return: A tuple containing all the sets.\n",
    "        \"\"\"\n",
    "\n",
    "        # No validation set will be created\n",
    "        if without_val:\n",
    "            return train_test_split(input_data, test_size=0.2, random_state=1, shuffle=True)\n",
    "\n",
    "        # Create validation set\n",
    "        X_dev, X_val = train_test_split(input_data, test_size=0.05, random_state=1, shuffle=True)\n",
    "        X_train, X_test = train_test_split(X_dev, test_size=0.25, random_state=1, shuffle=True)\n",
    "        return X_train, X_val, X_test"
   ]
  },
  {
   "cell_type": "markdown",
   "id": "4c2293d3-b114-49fc-96e6-e585a74cdb9a",
   "metadata": {},
   "source": [
    "### Create custom sampling layer"
   ]
  },
  {
   "cell_type": "code",
   "execution_count": 20,
   "id": "463a8a5a-790f-4e30-baa6-c271a3f7dc81",
   "metadata": {},
   "outputs": [],
   "source": [
    "class Sampling(layers.Layer):\n",
    "    \"\"\"Uses (z_mean, z_log_var) to sample z, the vector encoding a digit.\"\"\"\n",
    "\n",
    "    def call(self, inputs): # Why no super?\n",
    "        z_mean, z_log_var = inputs\n",
    "        batch = tf.shape(z_mean)[0]\n",
    "        dim = tf.shape(z_mean)[1]\n",
    "        epsilon = tf.keras.backend.random_normal(shape=(batch, dim))\n",
    "        return z_mean + tf.exp(0.5 * z_log_var) * epsilon"
   ]
  },
  {
   "cell_type": "markdown",
   "id": "19e9217d-e4cc-4b11-87aa-1a94cb98ab50",
   "metadata": {},
   "source": [
    "### Create VAE "
   ]
  },
  {
   "cell_type": "code",
   "execution_count": 19,
   "id": "824dde97-2586-4b65-9e9e-7c54310ff12a",
   "metadata": {},
   "outputs": [],
   "source": [
    "class VAE(keras.Model):\n",
    "    def __init__(self, encoder, decoder, **kwargs): # What are the kwargs\n",
    "        super(VAE, self).__init__(**kwargs) # Why super?\n",
    "        self.encoder: Model = encoder\n",
    "        self.decoder: Model = decoder\n",
    "        self.total_loss_tracker = keras.metrics.Mean(name=\"total_loss\")\n",
    "        self.reconstruction_loss_tracker = keras.metrics.Mean(\n",
    "            name=\"reconstruction_loss\"\n",
    "        )\n",
    "        self.kl_loss_tracker = keras.metrics.Mean(name=\"kl_loss\")\n",
    "\n",
    "    @property # property decorator, purpose?\n",
    "    def metrics(self):\n",
    "        return [\n",
    "            self.total_loss_tracker,\n",
    "            self.reconstruction_loss_tracker,\n",
    "            self.kl_loss_tracker,\n",
    "        ]\n",
    "\n",
    "    def train_step(self, data):\n",
    "        with tf.GradientTape() as tape:\n",
    "            z_mean, z_log_var, z = self.encoder(data)\n",
    "            reconstruction = self.decoder(z)\n",
    "            reconstruction_loss_fn = keras.losses.MeanSquaredError()\n",
    "            reconstruction_loss = reconstruction_loss_fn(data, reconstruction)\n",
    "            kl_loss = -0.5 * (1 + z_log_var - tf.square(z_mean) - tf.exp(z_log_var))\n",
    "            kl_loss = tf.reduce_mean(tf.reduce_sum(kl_loss, axis=1))\n",
    "            total_loss = reconstruction_loss + kl_loss\n",
    "        grads = tape.gradient(total_loss, self.trainable_weights)\n",
    "        self.optimizer.apply_gradients(zip(grads, self.trainable_weights))\n",
    "        self.total_loss_tracker.update_state(total_loss)\n",
    "        self.reconstruction_loss_tracker.update_state(reconstruction_loss)\n",
    "        self.kl_loss_tracker.update_state(kl_loss)\n",
    "        return {\n",
    "            \"loss\": self.total_loss_tracker.result(),\n",
    "            \"reconstruction_loss\": self.reconstruction_loss_tracker.result(),\n",
    "            \"kl_loss\": self.kl_loss_tracker.result(),\n",
    "        }\n",
    "\n",
    "    def call(self, inputs):\n",
    "        z_mean, z_log_var, z = self.encoder(inputs)\n",
    "        return self.decoder(z)"
   ]
  },
  {
   "cell_type": "markdown",
   "id": "ca928a0a-fd82-4394-8ebc-0ef9c11408dd",
   "metadata": {},
   "source": [
    "### Adjust hyperparameters"
   ]
  },
  {
   "cell_type": "code",
   "execution_count": 18,
   "id": "eb18835f-fe77-485a-a396-8bca89016d84",
   "metadata": {},
   "outputs": [],
   "source": [
    "latent_dim = 500 # Latent dims\n",
    "# data_path = \"\" # Path to data"
   ]
  },
  {
   "cell_type": "code",
   "execution_count": 21,
   "id": "bff49bec-e001-4e02-90b7-98a754575ac6",
   "metadata": {},
   "outputs": [],
   "source": [
    "data_path = \"/Users/karlberb/work/sample_count/smpl_gen/architechture/X_intersect_5k_mad_feats_cohorts_n25.tsv\""
   ]
  },
  {
   "cell_type": "markdown",
   "id": "d559dcbc-692b-4608-88fd-52d79c5955f6",
   "metadata": {},
   "source": [
    "### Load data"
   ]
  },
  {
   "cell_type": "code",
   "execution_count": 22,
   "id": "8ea6d6e5-c100-488d-b372-3336069cca25",
   "metadata": {},
   "outputs": [],
   "source": [
    "data = pd.read_csv(data_path, sep='\\t', index_col=0)"
   ]
  },
  {
   "cell_type": "code",
   "execution_count": 24,
   "id": "bae38313-18a1-42ed-99bf-15d0426bd4f2",
   "metadata": {},
   "outputs": [
    {
     "ename": "NameError",
     "evalue": "name 'SplitHandler' is not defined",
     "output_type": "error",
     "traceback": [
      "\u001b[0;31m---------------------------------------------------------------------------\u001b[0m",
      "\u001b[0;31mNameError\u001b[0m                                 Traceback (most recent call last)",
      "\u001b[0;32m/var/folders/5v/88tvwqd94gs4dfr3h6rt1_w0qd13bg/T/ipykernel_96665/3864727426.py\u001b[0m in \u001b[0;36m<module>\u001b[0;34m\u001b[0m\n\u001b[0;32m----> 1\u001b[0;31m \u001b[0mtrain_data\u001b[0m\u001b[0;34m,\u001b[0m \u001b[0mval_data\u001b[0m\u001b[0;34m,\u001b[0m \u001b[0mtest_data\u001b[0m \u001b[0;34m=\u001b[0m \u001b[0mSplitHandler\u001b[0m\u001b[0;34m.\u001b[0m\u001b[0mcreate_splits\u001b[0m\u001b[0;34m(\u001b[0m\u001b[0minput_data\u001b[0m\u001b[0;34m=\u001b[0m\u001b[0mdata\u001b[0m\u001b[0;34m,\u001b[0m \u001b[0mwithout_val\u001b[0m\u001b[0;34m=\u001b[0m\u001b[0;32mFalse\u001b[0m\u001b[0;34m)\u001b[0m\u001b[0;34m\u001b[0m\u001b[0;34m\u001b[0m\u001b[0m\n\u001b[0m",
      "\u001b[0;31mNameError\u001b[0m: name 'SplitHandler' is not defined"
     ]
    }
   ],
   "source": [
    "# Remove for now, manual split\n",
    "train_data, val_data, test_data = SplitHandler.create_splits(input_data=data, without_val=False)"
   ]
  },
  {
   "cell_type": "code",
   "execution_count": null,
   "id": "6dc07111-9f10-48c3-809d-2bca2bad37bf",
   "metadata": {},
   "outputs": [],
   "source": [
    "# Future work: put train test in function, SKIP UNTIL MODEL RUNS"
   ]
  },
  {
   "cell_type": "markdown",
   "id": "59b28547-8a2a-4a85-99db-39f3e7928bd8",
   "metadata": {},
   "source": [
    "# Do not run, model does not take 'test_data'\n",
    "# GOAL IS TO MAKE A UMAP\n",
    "\n",
    "data = pd.read_csv(data_path, sep='\\t', index_col=0)\n",
    "### truncate everything after the 4th decimal\n",
    "data = np.trunc(1000 * data) / 1000 # Need a model that fits the data, skip\n",
    "\n",
    "train_data, val_data, test_data = SplitHandler.create_splits(input_data=data, without_val=False)\n",
    "\n",
    "train_data, scaler = normalize(train_data, features=train_data.columns)\n",
    "val_data, _ = normalize(val_data, features=val_data.columns, scaler=scaler)\n",
    "test_data, _ = normalize(data=test_data, features=test_data.columns, scaler=scaler)"
   ]
  },
  {
   "cell_type": "markdown",
   "id": "92515ed7-a413-4614-af4c-f9068f51f3e6",
   "metadata": {},
   "source": [
    "### Build model"
   ]
  },
  {
   "cell_type": "code",
   "execution_count": 16,
   "id": "64bd311c-34e0-4810-b899-7107caf4752e",
   "metadata": {},
   "outputs": [
    {
     "ename": "NameError",
     "evalue": "name 'train_data' is not defined",
     "output_type": "error",
     "traceback": [
      "\u001b[0;31m---------------------------------------------------------------------------\u001b[0m",
      "\u001b[0;31mNameError\u001b[0m                                 Traceback (most recent call last)",
      "Cell \u001b[0;32mIn [16], line 1\u001b[0m\n\u001b[0;32m----> 1\u001b[0m input_dimensions \u001b[38;5;241m=\u001b[39m train_data\u001b[38;5;241m.\u001b[39mshape[\u001b[38;5;241m1\u001b[39m]\n\u001b[1;32m      3\u001b[0m encoder_inputs \u001b[38;5;241m=\u001b[39m keras\u001b[38;5;241m.\u001b[39mInput(shape\u001b[38;5;241m=\u001b[39m(input_dimensions,))\n\u001b[1;32m      4\u001b[0m x \u001b[38;5;241m=\u001b[39m layers\u001b[38;5;241m.\u001b[39mDense(units\u001b[38;5;241m=\u001b[39minput_dimensions \u001b[38;5;241m/\u001b[39m \u001b[38;5;241m2\u001b[39m, activation\u001b[38;5;241m=\u001b[39m\u001b[38;5;124m\"\u001b[39m\u001b[38;5;124mrelu\u001b[39m\u001b[38;5;124m\"\u001b[39m)(encoder_inputs)\n",
      "\u001b[0;31mNameError\u001b[0m: name 'train_data' is not defined"
     ]
    }
   ],
   "source": [
    "input_dimensions = train_data.shape[1]\n",
    "\n",
    "encoder_inputs = keras.Input(shape=(input_dimensions,))\n",
    "x = layers.Dense(units=input_dimensions / 2, activation=\"relu\")(encoder_inputs)\n",
    "x = layers.Dense(units=input_dimensions / 3, activation=\"relu\")(x)\n",
    "x = layers.Dense(units=input_dimensions / 4, activation=\"relu\")(x)\n",
    "\n",
    "z_mean = layers.Dense(latent_dim, name=\"z_mean\")(x)\n",
    "z_log_var = layers.Dense(latent_dim, name=\"z_log_var\")(x)\n",
    "z = Sampling()([z_mean, z_log_var])\n",
    "encoder = keras.Model(encoder_inputs, [z_mean, z_log_var, z], name=\"encoder\")\n",
    "encoder.summary()\n",
    "\n",
    "latent_inputs = keras.Input(shape=(latent_dim,))\n",
    "x = layers.Dense(units=input_dimensions / 4, activation=\"relu\")(latent_inputs)\n",
    "x = layers.Dense(units=input_dimensions / 3, activation=\"relu\")(x)\n",
    "x = layers.Dense(units=input_dimensions / 2, activation=\"relu\")(x)\n",
    "\n",
    "decoder_outputs = layers.Dense(units=input_dimensions, activation=\"relu\")(x)\n",
    "decoder = keras.Model(latent_inputs, decoder_outputs, name=\"decoder\")\n",
    "decoder.summary()\n",
    "\n",
    "vae: VAE = VAE(encoder, decoder)\n",
    "vae.compile(optimizer=keras.optimizers.Adam())\n",
    "\n",
    "# vae.summary()\n",
    "\n",
    "callbacks = []\n",
    "\n",
    "early_stop = EarlyStopping(monitor=\"reconstruction_loss\",\n",
    "                           mode=\"min\", patience=5,\n",
    "                           restore_best_weights=True)\n",
    "callbacks.append(early_stop)\n",
    "\n",
    "csv_logger = CSVLogger(os.path.join(base_path, 'training.log'),\n",
    "                       separator='\\t')\n",
    "callbacks.append(csv_logger)\n",
    "\n",
    "history = vae.fit(train_data,\n",
    "                  callbacks=callbacks,\n",
    "                  validation_data=(val_data, val_data),\n",
    "                  epochs=500, batch_size=128)\n"
   ]
  },
  {
   "cell_type": "code",
   "execution_count": null,
   "id": "f24c727f-732d-47b3-9971-baee7f96f7a0",
   "metadata": {},
   "outputs": [],
   "source": []
  }
 ],
 "metadata": {
  "kernelspec": {
   "display_name": "Python 3 (ipykernel)",
   "language": "python",
   "name": "python3"
  },
  "language_info": {
   "codemirror_mode": {
    "name": "ipython",
    "version": 3
   },
   "file_extension": ".py",
   "mimetype": "text/x-python",
   "name": "python",
   "nbconvert_exporter": "python",
   "pygments_lexer": "ipython3",
   "version": "3.9.7"
  }
 },
 "nbformat": 4,
 "nbformat_minor": 5
}
