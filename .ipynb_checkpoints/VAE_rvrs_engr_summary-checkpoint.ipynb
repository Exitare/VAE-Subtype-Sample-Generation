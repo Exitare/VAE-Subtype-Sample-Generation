{
 "cells": [
  {
   "cell_type": "code",
   "execution_count": null,
   "id": "29e9b5e6-b36b-45f8-96ea-5e6408d70d7d",
   "metadata": {},
   "outputs": [],
   "source": [
    "# v3, prep for export to repo\n",
    "# dense layer reverse engineering summary\n",
    "# Conclusion: gene expression conversion to uint8 not solving nan loss\n",
    "    # make_classification running as control, model mis-aligned with gexp data\n",
    "    # Begin devel / test cycle on alternate architechtures "
   ]
  },
  {
   "cell_type": "code",
   "execution_count": null,
   "id": "2616e6bd-3444-4a2e-9f96-c80efcba0544",
   "metadata": {},
   "outputs": [],
   "source": [
    "# Model setup, dense layer architechture\n",
    "import numpy as np\n",
    "import tensorflow as tf\n",
    "from tensorflow import keras\n",
    "from tensorflow.keras import layers\n",
    "import pandas as pd\n",
    "from sklearn.preprocessing import MinMaxScaler\n",
    "from sklearn.datasets import make_classification\n",
    "from sklearn.model_selection import train_test_split\n",
    "from tensorflow.keras.callbacks import EarlyStopping, CSVLogger\n",
    "import os\n",
    "from pathlib import Path\n",
    "import json\n",
    "from tensorflow.keras.models import Model\n",
    "\n",
    "class VAE(keras.Model):\n",
    "    def __init__(self, encoder, decoder, **kwargs):\n",
    "        super(VAE, self).__init__(**kwargs)\n",
    "        \n",
    "        self.encoder: Model = encoder\n",
    "        self.decoder: Model = decoder\n",
    "        \n",
    "        self.total_loss_tracker = keras.metrics.Mean(name = \"total_loss\")\n",
    "        self.reconstruction_loss_tracker = keras.metrics.Mean(name = \"reconstruction_loss\")\n",
    "        self.kl_loss_tracker = keras.metrics.Mean(name = \"kl_loss\")\n",
    "\n",
    "    @property\n",
    "    def metrics(self):\n",
    "        return [\n",
    "            self.total_loss_tracker,\n",
    "            self.reconstruction_loss_tracker,\n",
    "            self.kl_loss_tracker,\n",
    "        ]\n",
    "\n",
    "    def train_step(self, data):\n",
    "        with tf.GradientTape() as tape:\n",
    "            z_mean, z_log_var, z = self.encoder(data)\n",
    "            reconstruction = self.decoder(z)\n",
    "            reconstruction_loss_fn = keras.losses.MeanSquaredError()\n",
    "            reconstruction_loss = reconstruction_loss_fn(data, reconstruction)\n",
    "            kl_loss = -0.5 * (1 + z_log_var - tf.square(z_mean) - tf.exp(z_log_var))\n",
    "            kl_loss = tf.reduce_mean(tf.reduce_sum(kl_loss, axis=1))\n",
    "            total_loss = reconstruction_loss + kl_loss\n",
    "        grads = tape.gradient(total_loss, self.trainable_weights)\n",
    "        self.optimizer.apply_gradients(zip(grads, self.trainable_weights))\n",
    "        self.total_loss_tracker.update_state(total_loss)\n",
    "        self.reconstruction_loss_tracker.update_state(reconstruction_loss)\n",
    "        self.kl_loss_tracker.update_state(kl_loss)\n",
    "        return {\n",
    "            \"loss\": self.total_loss_tracker.result(),\n",
    "            \"reconstruction_loss\": self.reconstruction_loss_tracker.result(),\n",
    "            \"kl_loss\": self.kl_loss_tracker.result(),\n",
    "        }\n",
    "\n",
    "    def call(self, inputs):\n",
    "        z_mean, z_log_var, z = self.encoder(inputs)\n",
    "        return self.decoder(z)\n",
    "\n",
    "\n",
    "class Sampling(layers.Layer):\n",
    "    \"\"\"Uses (z_mean, z_log_var) to sample z, the vector encoding a digit.\"\"\"\n",
    "\n",
    "    def call(self, inputs):\n",
    "        z_mean, z_log_var = inputs\n",
    "        batch = tf.shape(z_mean)[0]\n",
    "        dim = tf.shape(z_mean)[1]\n",
    "        epsilon = tf.keras.backend.random_normal(shape=(batch, dim))\n",
    "        return z_mean + tf.exp(0.5 * z_log_var) * epsilon"
   ]
  },
  {
   "cell_type": "code",
   "execution_count": null,
   "id": "80aecdf6-94f4-4ca1-b250-a410efcd2564",
   "metadata": {},
   "outputs": [],
   "source": [
    "# Set the latent space dimensinality\n",
    "latent_dim = 10"
   ]
  },
  {
   "cell_type": "code",
   "execution_count": 29,
   "id": "5b61697d-c2d1-4897-92a3-bd527d301e43",
   "metadata": {},
   "outputs": [],
   "source": [
    "# Start acquistion / format test on gene exression data\n",
    "import glob"
   ]
  },
  {
   "cell_type": "code",
   "execution_count": 31,
   "id": "9d768526-6de9-497d-9f90-74078661601f",
   "metadata": {},
   "outputs": [
    {
     "data": {
      "text/plain": [
       "'../gexp_files/BRCA_gxp.tsv'"
      ]
     },
     "execution_count": 31,
     "metadata": {},
     "output_type": "execute_result"
    }
   ],
   "source": [
    "gxp_files = sorted(glob.glob('../gexp_files/*.tsv'))\n",
    "gxp_files[2] # <--- set cancer file n"
   ]
  },
  {
   "cell_type": "code",
   "execution_count": 32,
   "id": "96018a68-4582-46eb-98fe-091b92b42fe9",
   "metadata": {},
   "outputs": [],
   "source": [
    "file  = pd.read_csv(gxp_files[2],         # <--- read TCGA breast invasive carcinoma gene expression\n",
    "                       sep = '\\t',\n",
    "                       index_col = 0)"
   ]
  },
  {
   "cell_type": "code",
   "execution_count": 83,
   "id": "e9cceaf8-2e83-492f-a0ae-69d6d00111e6",
   "metadata": {
    "tags": []
   },
   "outputs": [
    {
     "data": {
      "text/html": [
       "<div>\n",
       "<style scoped>\n",
       "    .dataframe tbody tr th:only-of-type {\n",
       "        vertical-align: middle;\n",
       "    }\n",
       "\n",
       "    .dataframe tbody tr th {\n",
       "        vertical-align: top;\n",
       "    }\n",
       "\n",
       "    .dataframe thead th {\n",
       "        text-align: right;\n",
       "    }\n",
       "</style>\n",
       "<table border=\"1\" class=\"dataframe\">\n",
       "  <thead>\n",
       "    <tr style=\"text-align: right;\">\n",
       "      <th></th>\n",
       "      <th>Labels</th>\n",
       "      <th>N:GEXP::?:100130426:</th>\n",
       "      <th>N:GEXP::?:100133144:</th>\n",
       "      <th>N:GEXP::?:100134869:</th>\n",
       "      <th>N:GEXP::?:10357:</th>\n",
       "      <th>N:GEXP::?:10431:</th>\n",
       "      <th>N:GEXP::?:136542:</th>\n",
       "      <th>N:GEXP::?:155060:</th>\n",
       "      <th>N:GEXP::?:26823:</th>\n",
       "      <th>N:GEXP::?:280660:</th>\n",
       "      <th>...</th>\n",
       "      <th>N:GEXP::ZXDA:7789:</th>\n",
       "      <th>N:GEXP::ZXDB:158586:</th>\n",
       "      <th>N:GEXP::ZXDC:79364:</th>\n",
       "      <th>N:GEXP::ZYG11A:440590:</th>\n",
       "      <th>N:GEXP::ZYG11B:79699:</th>\n",
       "      <th>N:GEXP::ZYX:7791:</th>\n",
       "      <th>N:GEXP::ZZEF1:23140:</th>\n",
       "      <th>N:GEXP::ZZZ3:26009:</th>\n",
       "      <th>N:GEXP::psiTPTE22:387590:</th>\n",
       "      <th>N:GEXP::tAKR:389932:</th>\n",
       "    </tr>\n",
       "    <tr>\n",
       "      <th>BRCA</th>\n",
       "      <th></th>\n",
       "      <th></th>\n",
       "      <th></th>\n",
       "      <th></th>\n",
       "      <th></th>\n",
       "      <th></th>\n",
       "      <th></th>\n",
       "      <th></th>\n",
       "      <th></th>\n",
       "      <th></th>\n",
       "      <th></th>\n",
       "      <th></th>\n",
       "      <th></th>\n",
       "      <th></th>\n",
       "      <th></th>\n",
       "      <th></th>\n",
       "      <th></th>\n",
       "      <th></th>\n",
       "      <th></th>\n",
       "      <th></th>\n",
       "      <th></th>\n",
       "    </tr>\n",
       "  </thead>\n",
       "  <tbody>\n",
       "    <tr>\n",
       "      <th>TCGA-3C-AAAU</th>\n",
       "      <td>BRCA_1</td>\n",
       "      <td>0.0</td>\n",
       "      <td>16.3640</td>\n",
       "      <td>12.932</td>\n",
       "      <td>52.150</td>\n",
       "      <td>408.08</td>\n",
       "      <td>0</td>\n",
       "      <td>1187.00</td>\n",
       "      <td>0.0000</td>\n",
       "      <td>0.0000</td>\n",
       "      <td>...</td>\n",
       "      <td>129.590</td>\n",
       "      <td>1007.80</td>\n",
       "      <td>1658.5</td>\n",
       "      <td>258.49</td>\n",
       "      <td>1208.40</td>\n",
       "      <td>3507.2</td>\n",
       "      <td>1894.9</td>\n",
       "      <td>1180.50</td>\n",
       "      <td>1.7233</td>\n",
       "      <td>0.0</td>\n",
       "    </tr>\n",
       "    <tr>\n",
       "      <th>TCGA-3C-AALI</th>\n",
       "      <td>BRCA_4</td>\n",
       "      <td>0.0</td>\n",
       "      <td>9.2659</td>\n",
       "      <td>17.379</td>\n",
       "      <td>69.755</td>\n",
       "      <td>563.89</td>\n",
       "      <td>0</td>\n",
       "      <td>516.04</td>\n",
       "      <td>1.0875</td>\n",
       "      <td>0.5438</td>\n",
       "      <td>...</td>\n",
       "      <td>59.815</td>\n",
       "      <td>448.61</td>\n",
       "      <td>1343.1</td>\n",
       "      <td>198.48</td>\n",
       "      <td>603.59</td>\n",
       "      <td>5504.6</td>\n",
       "      <td>1318.7</td>\n",
       "      <td>406.74</td>\n",
       "      <td>926.5900</td>\n",
       "      <td>0.0</td>\n",
       "    </tr>\n",
       "  </tbody>\n",
       "</table>\n",
       "<p>2 rows × 20532 columns</p>\n",
       "</div>"
      ],
      "text/plain": [
       "              Labels  N:GEXP::?:100130426:  N:GEXP::?:100133144:  \\\n",
       "BRCA                                                               \n",
       "TCGA-3C-AAAU  BRCA_1                   0.0               16.3640   \n",
       "TCGA-3C-AALI  BRCA_4                   0.0                9.2659   \n",
       "\n",
       "              N:GEXP::?:100134869:  N:GEXP::?:10357:  N:GEXP::?:10431:  \\\n",
       "BRCA                                                                     \n",
       "TCGA-3C-AAAU                12.932            52.150            408.08   \n",
       "TCGA-3C-AALI                17.379            69.755            563.89   \n",
       "\n",
       "              N:GEXP::?:136542:  N:GEXP::?:155060:  N:GEXP::?:26823:  \\\n",
       "BRCA                                                                   \n",
       "TCGA-3C-AAAU                  0            1187.00            0.0000   \n",
       "TCGA-3C-AALI                  0             516.04            1.0875   \n",
       "\n",
       "              N:GEXP::?:280660:  ...  N:GEXP::ZXDA:7789:  \\\n",
       "BRCA                             ...                       \n",
       "TCGA-3C-AAAU             0.0000  ...             129.590   \n",
       "TCGA-3C-AALI             0.5438  ...              59.815   \n",
       "\n",
       "              N:GEXP::ZXDB:158586:  N:GEXP::ZXDC:79364:  \\\n",
       "BRCA                                                      \n",
       "TCGA-3C-AAAU               1007.80               1658.5   \n",
       "TCGA-3C-AALI                448.61               1343.1   \n",
       "\n",
       "              N:GEXP::ZYG11A:440590:  N:GEXP::ZYG11B:79699:  \\\n",
       "BRCA                                                          \n",
       "TCGA-3C-AAAU                  258.49                1208.40   \n",
       "TCGA-3C-AALI                  198.48                 603.59   \n",
       "\n",
       "              N:GEXP::ZYX:7791:  N:GEXP::ZZEF1:23140:  N:GEXP::ZZZ3:26009:  \\\n",
       "BRCA                                                                         \n",
       "TCGA-3C-AAAU             3507.2                1894.9              1180.50   \n",
       "TCGA-3C-AALI             5504.6                1318.7               406.74   \n",
       "\n",
       "              N:GEXP::psiTPTE22:387590:  N:GEXP::tAKR:389932:  \n",
       "BRCA                                                           \n",
       "TCGA-3C-AAAU                     1.7233                   0.0  \n",
       "TCGA-3C-AALI                   926.5900                   0.0  \n",
       "\n",
       "[2 rows x 20532 columns]"
      ]
     },
     "execution_count": 83,
     "metadata": {},
     "output_type": "execute_result"
    }
   ],
   "source": [
    "file.head(2)"
   ]
  },
  {
   "cell_type": "code",
   "execution_count": null,
   "id": "f29f6722-b110-463a-a46e-270d37e3dbad",
   "metadata": {
    "tags": []
   },
   "outputs": [],
   "source": [
    "file.iloc[:, 1:] # get X"
   ]
  },
  {
   "cell_type": "code",
   "execution_count": 41,
   "id": "994a5287-7b40-4277-9338-ae2d06b235f4",
   "metadata": {
    "tags": []
   },
   "outputs": [
    {
     "data": {
      "text/plain": [
       "array([[0.746, 0.913, 0.299, ..., 0.731, 0.738, 0.648],\n",
       "       [0.427, 0.33 , 0.499, ..., 0.594, 0.255, 0.497],\n",
       "       [0.378, 0.521, 0.514, ..., 0.45 , 0.6  , 0.358],\n",
       "       ...,\n",
       "       [0.413, 0.52 , 0.393, ..., 0.62 , 0.654, 0.455],\n",
       "       [0.625, 0.873, 0.341, ..., 0.697, 0.739, 0.776],\n",
       "       [0.592, 0.654, 0.676, ..., 0.653, 0.633, 0.532]])"
      ]
     },
     "execution_count": 41,
     "metadata": {},
     "output_type": "execute_result"
    }
   ],
   "source": [
    "data # look at the synthetic data generatedd inline with make classification"
   ]
  },
  {
   "cell_type": "code",
   "execution_count": null,
   "id": "4f29856c-9c05-4329-a0a5-34f24b8f5c7d",
   "metadata": {},
   "outputs": [],
   "source": [
    "# Start here"
   ]
  },
  {
   "cell_type": "code",
   "execution_count": 64,
   "id": "495a173b-8df4-4696-9e26-0121bfbb5f7c",
   "metadata": {},
   "outputs": [],
   "source": [
    "# Train-test split on the BRCA gene expression data\n",
    "X_train, X_val = train_test_split(file.iloc[:, 1:], test_size=0.2)"
   ]
  },
  {
   "cell_type": "code",
   "execution_count": 65,
   "id": "62706b96-0d1e-4ff3-a9bb-df341e4f591f",
   "metadata": {},
   "outputs": [
    {
     "data": {
      "text/plain": [
       "numpy.float64"
      ]
     },
     "execution_count": 65,
     "metadata": {},
     "output_type": "execute_result"
    }
   ],
   "source": [
    "type(X_train.iloc[0,0])"
   ]
  },
  {
   "cell_type": "code",
   "execution_count": 66,
   "id": "5c2eaf35-1d60-4ebf-8514-c1a30bc2fd1a",
   "metadata": {},
   "outputs": [
    {
     "data": {
      "text/plain": [
       "(796, 20531)"
      ]
     },
     "execution_count": 66,
     "metadata": {},
     "output_type": "execute_result"
    }
   ],
   "source": [
    "X_train.shape"
   ]
  },
  {
   "cell_type": "code",
   "execution_count": 67,
   "id": "c69add3b-a005-467c-ac2d-8e1e5654f431",
   "metadata": {},
   "outputs": [
    {
     "data": {
      "text/plain": [
       "(199, 20531)"
      ]
     },
     "execution_count": 67,
     "metadata": {},
     "output_type": "execute_result"
    }
   ],
   "source": [
    "X_val.shape"
   ]
  },
  {
   "cell_type": "code",
   "execution_count": 71,
   "id": "11c1a701-8e3a-4da8-b522-db052f655e0c",
   "metadata": {},
   "outputs": [
    {
     "data": {
      "text/plain": [
       "array([dtype('float64'), dtype('int64')], dtype=object)"
      ]
     },
     "execution_count": 71,
     "metadata": {},
     "output_type": "execute_result"
    }
   ],
   "source": [
    "X_train.dtypes.unique()"
   ]
  },
  {
   "cell_type": "code",
   "execution_count": null,
   "id": "5689048f-fd20-4059-aea0-cb86ea7ff7ac",
   "metadata": {},
   "outputs": [],
   "source": [
    "# test data type conversion on dense layer VAE"
   ]
  },
  {
   "cell_type": "code",
   "execution_count": 74,
   "id": "ec249ac8-23c7-42c5-9737-6fcc14e95110",
   "metadata": {},
   "outputs": [],
   "source": [
    "X_train = X_train.astype('uint8')"
   ]
  },
  {
   "cell_type": "code",
   "execution_count": 75,
   "id": "a1cf5076-db0b-4d4b-9391-10baadfa41ee",
   "metadata": {},
   "outputs": [],
   "source": [
    "X_val = X_val.astype('uint8')"
   ]
  },
  {
   "cell_type": "markdown",
   "id": "408a851a-6744-40f2-8fac-c299317081ae",
   "metadata": {},
   "source": [
    "Try pretraining on something then feeding floats (?)"
   ]
  },
  {
   "cell_type": "code",
   "execution_count": 76,
   "id": "c1a6b1be-4d35-4b45-9d6d-1d4b84d97410",
   "metadata": {},
   "outputs": [],
   "source": [
    "train_data = X_train\n",
    "val_data = X_val"
   ]
  },
  {
   "cell_type": "code",
   "execution_count": 77,
   "id": "5b0d6f80-3740-4bcf-9da4-7a7151b9cfef",
   "metadata": {},
   "outputs": [],
   "source": [
    "scaler = MinMaxScaler(feature_range=(0, 1))"
   ]
  },
  {
   "cell_type": "code",
   "execution_count": 78,
   "id": "5761c3cc-900f-472b-bf1b-a9ac7e03f973",
   "metadata": {},
   "outputs": [],
   "source": [
    "scaler = scaler.fit(train_data)"
   ]
  },
  {
   "cell_type": "code",
   "execution_count": 79,
   "id": "62852c9c-88f0-40d3-8eff-f82d8e96abcd",
   "metadata": {},
   "outputs": [],
   "source": [
    "train_data = scaler.transform(train_data)"
   ]
  },
  {
   "cell_type": "code",
   "execution_count": 80,
   "id": "35e157ed-f6c4-481f-ad80-65628fd2850c",
   "metadata": {},
   "outputs": [],
   "source": [
    "val_data = scaler.transform(val_data)"
   ]
  },
  {
   "cell_type": "code",
   "execution_count": 81,
   "id": "eb5301aa-8b77-45fc-8315-bbe43467fc14",
   "metadata": {},
   "outputs": [
    {
     "name": "stdout",
     "output_type": "stream",
     "text": [
      "Model: \"encoder\"\n",
      "__________________________________________________________________________________________________\n",
      " Layer (type)                   Output Shape         Param #     Connected to                     \n",
      "==================================================================================================\n",
      " input_7 (InputLayer)           [(None, 20531)]      0           []                               \n",
      "                                                                                                  \n",
      " dense_21 (Dense)               (None, 10265)        210760980   ['input_7[0][0]']                \n",
      "                                                                                                  \n",
      " dense_22 (Dense)               (None, 6843)         70250238    ['dense_21[0][0]']               \n",
      "                                                                                                  \n",
      " dense_23 (Dense)               (None, 5132)         35123408    ['dense_22[0][0]']               \n",
      "                                                                                                  \n",
      " z_mean (Dense)                 (None, 10)           51330       ['dense_23[0][0]']               \n",
      "                                                                                                  \n",
      " z_log_var (Dense)              (None, 10)           51330       ['dense_23[0][0]']               \n",
      "                                                                                                  \n",
      " sampling_3 (Sampling)          (None, 10)           0           ['z_mean[0][0]',                 \n",
      "                                                                  'z_log_var[0][0]']              \n",
      "                                                                                                  \n",
      "==================================================================================================\n",
      "Total params: 316,237,286\n",
      "Trainable params: 316,237,286\n",
      "Non-trainable params: 0\n",
      "__________________________________________________________________________________________________\n",
      "Model: \"decoder\"\n",
      "_________________________________________________________________\n",
      " Layer (type)                Output Shape              Param #   \n",
      "=================================================================\n",
      " input_8 (InputLayer)        [(None, 10)]              0         \n",
      "                                                                 \n",
      " dense_24 (Dense)            (None, 5132)              56452     \n",
      "                                                                 \n",
      " dense_25 (Dense)            (None, 6843)              35125119  \n",
      "                                                                 \n",
      " dense_26 (Dense)            (None, 10265)             70253660  \n",
      "                                                                 \n",
      " dense_27 (Dense)            (None, 20531)             210771246 \n",
      "                                                                 \n",
      "=================================================================\n",
      "Total params: 316,206,477\n",
      "Trainable params: 316,206,477\n",
      "Non-trainable params: 0\n",
      "_________________________________________________________________\n"
     ]
    }
   ],
   "source": [
    "input_dimensions = train_data.shape[1]\n",
    "encoder_inputs = keras.Input(shape=(input_dimensions,))\n",
    "x = layers.Dense(units=input_dimensions / 2, activation=\"relu\")(encoder_inputs)\n",
    "x = layers.Dense(units=input_dimensions / 3, activation=\"relu\")(x)\n",
    "x = layers.Dense(units=input_dimensions / 4, activation=\"relu\")(x)\n",
    "z_mean = layers.Dense(latent_dim, name=\"z_mean\")(x)\n",
    "z_log_var = layers.Dense(latent_dim, name=\"z_log_var\")(x)\n",
    "z = Sampling()([z_mean, z_log_var])\n",
    "encoder = keras.Model(encoder_inputs, [z_mean, z_log_var, z], name=\"encoder\")\n",
    "encoder.summary()\n",
    "latent_inputs = keras.Input(shape=(latent_dim,))\n",
    "x = layers.Dense(units=input_dimensions / 4, activation=\"relu\")(latent_inputs)\n",
    "x = layers.Dense(units=input_dimensions / 3, activation=\"relu\")(x)\n",
    "x = layers.Dense(units=input_dimensions / 2, activation=\"relu\")(x)\n",
    "decoder_outputs = layers.Dense(units=input_dimensions, activation=\"relu\")(x)\n",
    "decoder = keras.Model(latent_inputs, decoder_outputs, name=\"decoder\")\n",
    "decoder.summary()\n",
    "vae: VAE = VAE(encoder, decoder)\n",
    "vae.compile(optimizer=keras.optimizers.Adam())\n",
    "callbacks = []\n",
    "early_stop = EarlyStopping(monitor=\"reconstruction_loss\",\n",
    "                           mode=\"min\", patience=5, # <--------- tune early stopping here\n",
    "                           restore_best_weights=True)\n",
    "callbacks.append(early_stop)\n",
    "# csv_logger = CSVLogger(os.path.join(base_path, 'training.log'), # Is this writing a file?\n",
    "#                        separator='\\t')\n",
    "# callbacks.append(csv_logger)\n",
    "# history = vae.fit(train_data, # Fit the VAE, work backward to carve out minimum viable code path to run this function\n",
    "#                   callbacks=callbacks,\n",
    "#                   validation_data=(val_data, val_data),\n",
    "#                   epochs=500, batch_size=128)\n",
    "\n",
    "# z_mean, z_var, embedding = vae.encoder.predict(train_data)\n",
    "# embedding = pd.DataFrame(embedding)"
   ]
  },
  {
   "cell_type": "code",
   "execution_count": 82,
   "id": "ec321309-0049-49b8-9b3e-306b5c35e8e9",
   "metadata": {
    "tags": []
   },
   "outputs": [
    {
     "name": "stdout",
     "output_type": "stream",
     "text": [
      "Epoch 1/500\n",
      "7/7 [==============================] - 47s 5s/step - loss: nan - reconstruction_loss: nan - kl_loss: nan - val_total_loss: 0.0000e+00 - val_reconstruction_loss: 0.0000e+00 - val_kl_loss: 0.0000e+00\n",
      "Epoch 2/500\n"
     ]
    },
    {
     "ename": "KeyboardInterrupt",
     "evalue": "",
     "output_type": "error",
     "traceback": [
      "\u001b[0;31m---------------------------------------------------------------------------\u001b[0m",
      "\u001b[0;31mKeyboardInterrupt\u001b[0m                         Traceback (most recent call last)",
      "\u001b[0;32m/var/folders/5v/88tvwqd94gs4dfr3h6rt1_w0qd13bg/T/ipykernel_38186/853434441.py\u001b[0m in \u001b[0;36m<module>\u001b[0;34m\u001b[0m\n\u001b[0;32m----> 1\u001b[0;31m history = vae.fit(train_data,\n\u001b[0m\u001b[1;32m      2\u001b[0m                   \u001b[0mcallbacks\u001b[0m\u001b[0;34m=\u001b[0m\u001b[0mcallbacks\u001b[0m\u001b[0;34m,\u001b[0m\u001b[0;34m\u001b[0m\u001b[0;34m\u001b[0m\u001b[0m\n\u001b[1;32m      3\u001b[0m                   \u001b[0mvalidation_data\u001b[0m\u001b[0;34m=\u001b[0m\u001b[0;34m(\u001b[0m\u001b[0mval_data\u001b[0m\u001b[0;34m,\u001b[0m \u001b[0mval_data\u001b[0m\u001b[0;34m)\u001b[0m\u001b[0;34m,\u001b[0m\u001b[0;34m\u001b[0m\u001b[0;34m\u001b[0m\u001b[0m\n\u001b[1;32m      4\u001b[0m                   epochs=500, batch_size=128)\n",
      "\u001b[0;32m~/opt/anaconda3/lib/python3.9/site-packages/keras/utils/traceback_utils.py\u001b[0m in \u001b[0;36merror_handler\u001b[0;34m(*args, **kwargs)\u001b[0m\n\u001b[1;32m     62\u001b[0m     \u001b[0mfiltered_tb\u001b[0m \u001b[0;34m=\u001b[0m \u001b[0;32mNone\u001b[0m\u001b[0;34m\u001b[0m\u001b[0;34m\u001b[0m\u001b[0m\n\u001b[1;32m     63\u001b[0m     \u001b[0;32mtry\u001b[0m\u001b[0;34m:\u001b[0m\u001b[0;34m\u001b[0m\u001b[0;34m\u001b[0m\u001b[0m\n\u001b[0;32m---> 64\u001b[0;31m       \u001b[0;32mreturn\u001b[0m \u001b[0mfn\u001b[0m\u001b[0;34m(\u001b[0m\u001b[0;34m*\u001b[0m\u001b[0margs\u001b[0m\u001b[0;34m,\u001b[0m \u001b[0;34m**\u001b[0m\u001b[0mkwargs\u001b[0m\u001b[0;34m)\u001b[0m\u001b[0;34m\u001b[0m\u001b[0;34m\u001b[0m\u001b[0m\n\u001b[0m\u001b[1;32m     65\u001b[0m     \u001b[0;32mexcept\u001b[0m \u001b[0mException\u001b[0m \u001b[0;32mas\u001b[0m \u001b[0me\u001b[0m\u001b[0;34m:\u001b[0m  \u001b[0;31m# pylint: disable=broad-except\u001b[0m\u001b[0;34m\u001b[0m\u001b[0;34m\u001b[0m\u001b[0m\n\u001b[1;32m     66\u001b[0m       \u001b[0mfiltered_tb\u001b[0m \u001b[0;34m=\u001b[0m \u001b[0m_process_traceback_frames\u001b[0m\u001b[0;34m(\u001b[0m\u001b[0me\u001b[0m\u001b[0;34m.\u001b[0m\u001b[0m__traceback__\u001b[0m\u001b[0;34m)\u001b[0m\u001b[0;34m\u001b[0m\u001b[0;34m\u001b[0m\u001b[0m\n",
      "\u001b[0;32m~/opt/anaconda3/lib/python3.9/site-packages/keras/engine/training.py\u001b[0m in \u001b[0;36mfit\u001b[0;34m(self, x, y, batch_size, epochs, verbose, callbacks, validation_split, validation_data, shuffle, class_weight, sample_weight, initial_epoch, steps_per_epoch, validation_steps, validation_batch_size, validation_freq, max_queue_size, workers, use_multiprocessing)\u001b[0m\n\u001b[1;32m   1407\u001b[0m                 _r=1):\n\u001b[1;32m   1408\u001b[0m               \u001b[0mcallbacks\u001b[0m\u001b[0;34m.\u001b[0m\u001b[0mon_train_batch_begin\u001b[0m\u001b[0;34m(\u001b[0m\u001b[0mstep\u001b[0m\u001b[0;34m)\u001b[0m\u001b[0;34m\u001b[0m\u001b[0;34m\u001b[0m\u001b[0m\n\u001b[0;32m-> 1409\u001b[0;31m               \u001b[0mtmp_logs\u001b[0m \u001b[0;34m=\u001b[0m \u001b[0mself\u001b[0m\u001b[0;34m.\u001b[0m\u001b[0mtrain_function\u001b[0m\u001b[0;34m(\u001b[0m\u001b[0miterator\u001b[0m\u001b[0;34m)\u001b[0m\u001b[0;34m\u001b[0m\u001b[0;34m\u001b[0m\u001b[0m\n\u001b[0m\u001b[1;32m   1410\u001b[0m               \u001b[0;32mif\u001b[0m \u001b[0mdata_handler\u001b[0m\u001b[0;34m.\u001b[0m\u001b[0mshould_sync\u001b[0m\u001b[0;34m:\u001b[0m\u001b[0;34m\u001b[0m\u001b[0;34m\u001b[0m\u001b[0m\n\u001b[1;32m   1411\u001b[0m                 \u001b[0mcontext\u001b[0m\u001b[0;34m.\u001b[0m\u001b[0masync_wait\u001b[0m\u001b[0;34m(\u001b[0m\u001b[0;34m)\u001b[0m\u001b[0;34m\u001b[0m\u001b[0;34m\u001b[0m\u001b[0m\n",
      "\u001b[0;32m~/opt/anaconda3/lib/python3.9/site-packages/tensorflow/python/util/traceback_utils.py\u001b[0m in \u001b[0;36merror_handler\u001b[0;34m(*args, **kwargs)\u001b[0m\n\u001b[1;32m    148\u001b[0m     \u001b[0mfiltered_tb\u001b[0m \u001b[0;34m=\u001b[0m \u001b[0;32mNone\u001b[0m\u001b[0;34m\u001b[0m\u001b[0;34m\u001b[0m\u001b[0m\n\u001b[1;32m    149\u001b[0m     \u001b[0;32mtry\u001b[0m\u001b[0;34m:\u001b[0m\u001b[0;34m\u001b[0m\u001b[0;34m\u001b[0m\u001b[0m\n\u001b[0;32m--> 150\u001b[0;31m       \u001b[0;32mreturn\u001b[0m \u001b[0mfn\u001b[0m\u001b[0;34m(\u001b[0m\u001b[0;34m*\u001b[0m\u001b[0margs\u001b[0m\u001b[0;34m,\u001b[0m \u001b[0;34m**\u001b[0m\u001b[0mkwargs\u001b[0m\u001b[0;34m)\u001b[0m\u001b[0;34m\u001b[0m\u001b[0;34m\u001b[0m\u001b[0m\n\u001b[0m\u001b[1;32m    151\u001b[0m     \u001b[0;32mexcept\u001b[0m \u001b[0mException\u001b[0m \u001b[0;32mas\u001b[0m \u001b[0me\u001b[0m\u001b[0;34m:\u001b[0m\u001b[0;34m\u001b[0m\u001b[0;34m\u001b[0m\u001b[0m\n\u001b[1;32m    152\u001b[0m       \u001b[0mfiltered_tb\u001b[0m \u001b[0;34m=\u001b[0m \u001b[0m_process_traceback_frames\u001b[0m\u001b[0;34m(\u001b[0m\u001b[0me\u001b[0m\u001b[0;34m.\u001b[0m\u001b[0m__traceback__\u001b[0m\u001b[0;34m)\u001b[0m\u001b[0;34m\u001b[0m\u001b[0;34m\u001b[0m\u001b[0m\n",
      "\u001b[0;32m~/opt/anaconda3/lib/python3.9/site-packages/tensorflow/python/eager/def_function.py\u001b[0m in \u001b[0;36m__call__\u001b[0;34m(self, *args, **kwds)\u001b[0m\n\u001b[1;32m    913\u001b[0m \u001b[0;34m\u001b[0m\u001b[0m\n\u001b[1;32m    914\u001b[0m       \u001b[0;32mwith\u001b[0m \u001b[0mOptionalXlaContext\u001b[0m\u001b[0;34m(\u001b[0m\u001b[0mself\u001b[0m\u001b[0;34m.\u001b[0m\u001b[0m_jit_compile\u001b[0m\u001b[0;34m)\u001b[0m\u001b[0;34m:\u001b[0m\u001b[0;34m\u001b[0m\u001b[0;34m\u001b[0m\u001b[0m\n\u001b[0;32m--> 915\u001b[0;31m         \u001b[0mresult\u001b[0m \u001b[0;34m=\u001b[0m \u001b[0mself\u001b[0m\u001b[0;34m.\u001b[0m\u001b[0m_call\u001b[0m\u001b[0;34m(\u001b[0m\u001b[0;34m*\u001b[0m\u001b[0margs\u001b[0m\u001b[0;34m,\u001b[0m \u001b[0;34m**\u001b[0m\u001b[0mkwds\u001b[0m\u001b[0;34m)\u001b[0m\u001b[0;34m\u001b[0m\u001b[0;34m\u001b[0m\u001b[0m\n\u001b[0m\u001b[1;32m    916\u001b[0m \u001b[0;34m\u001b[0m\u001b[0m\n\u001b[1;32m    917\u001b[0m       \u001b[0mnew_tracing_count\u001b[0m \u001b[0;34m=\u001b[0m \u001b[0mself\u001b[0m\u001b[0;34m.\u001b[0m\u001b[0mexperimental_get_tracing_count\u001b[0m\u001b[0;34m(\u001b[0m\u001b[0;34m)\u001b[0m\u001b[0;34m\u001b[0m\u001b[0;34m\u001b[0m\u001b[0m\n",
      "\u001b[0;32m~/opt/anaconda3/lib/python3.9/site-packages/tensorflow/python/eager/def_function.py\u001b[0m in \u001b[0;36m_call\u001b[0;34m(self, *args, **kwds)\u001b[0m\n\u001b[1;32m    945\u001b[0m       \u001b[0;31m# In this case we have created variables on the first call, so we run the\u001b[0m\u001b[0;34m\u001b[0m\u001b[0;34m\u001b[0m\u001b[0m\n\u001b[1;32m    946\u001b[0m       \u001b[0;31m# defunned version which is guaranteed to never create variables.\u001b[0m\u001b[0;34m\u001b[0m\u001b[0;34m\u001b[0m\u001b[0m\n\u001b[0;32m--> 947\u001b[0;31m       \u001b[0;32mreturn\u001b[0m \u001b[0mself\u001b[0m\u001b[0;34m.\u001b[0m\u001b[0m_stateless_fn\u001b[0m\u001b[0;34m(\u001b[0m\u001b[0;34m*\u001b[0m\u001b[0margs\u001b[0m\u001b[0;34m,\u001b[0m \u001b[0;34m**\u001b[0m\u001b[0mkwds\u001b[0m\u001b[0;34m)\u001b[0m  \u001b[0;31m# pylint: disable=not-callable\u001b[0m\u001b[0;34m\u001b[0m\u001b[0;34m\u001b[0m\u001b[0m\n\u001b[0m\u001b[1;32m    948\u001b[0m     \u001b[0;32melif\u001b[0m \u001b[0mself\u001b[0m\u001b[0;34m.\u001b[0m\u001b[0m_stateful_fn\u001b[0m \u001b[0;32mis\u001b[0m \u001b[0;32mnot\u001b[0m \u001b[0;32mNone\u001b[0m\u001b[0;34m:\u001b[0m\u001b[0;34m\u001b[0m\u001b[0;34m\u001b[0m\u001b[0m\n\u001b[1;32m    949\u001b[0m       \u001b[0;31m# Release the lock early so that multiple threads can perform the call\u001b[0m\u001b[0;34m\u001b[0m\u001b[0;34m\u001b[0m\u001b[0m\n",
      "\u001b[0;32m~/opt/anaconda3/lib/python3.9/site-packages/tensorflow/python/eager/function.py\u001b[0m in \u001b[0;36m__call__\u001b[0;34m(self, *args, **kwargs)\u001b[0m\n\u001b[1;32m   2451\u001b[0m       (graph_function,\n\u001b[1;32m   2452\u001b[0m        filtered_flat_args) = self._maybe_define_function(args, kwargs)\n\u001b[0;32m-> 2453\u001b[0;31m     return graph_function._call_flat(\n\u001b[0m\u001b[1;32m   2454\u001b[0m         filtered_flat_args, captured_inputs=graph_function.captured_inputs)  # pylint: disable=protected-access\n\u001b[1;32m   2455\u001b[0m \u001b[0;34m\u001b[0m\u001b[0m\n",
      "\u001b[0;32m~/opt/anaconda3/lib/python3.9/site-packages/tensorflow/python/eager/function.py\u001b[0m in \u001b[0;36m_call_flat\u001b[0;34m(self, args, captured_inputs, cancellation_manager)\u001b[0m\n\u001b[1;32m   1858\u001b[0m         and executing_eagerly):\n\u001b[1;32m   1859\u001b[0m       \u001b[0;31m# No tape is watching; skip to running the function.\u001b[0m\u001b[0;34m\u001b[0m\u001b[0;34m\u001b[0m\u001b[0m\n\u001b[0;32m-> 1860\u001b[0;31m       return self._build_call_outputs(self._inference_function.call(\n\u001b[0m\u001b[1;32m   1861\u001b[0m           ctx, args, cancellation_manager=cancellation_manager))\n\u001b[1;32m   1862\u001b[0m     forward_backward = self._select_forward_and_backward_functions(\n",
      "\u001b[0;32m~/opt/anaconda3/lib/python3.9/site-packages/tensorflow/python/eager/function.py\u001b[0m in \u001b[0;36mcall\u001b[0;34m(self, ctx, args, cancellation_manager)\u001b[0m\n\u001b[1;32m    495\u001b[0m       \u001b[0;32mwith\u001b[0m \u001b[0m_InterpolateFunctionError\u001b[0m\u001b[0;34m(\u001b[0m\u001b[0mself\u001b[0m\u001b[0;34m)\u001b[0m\u001b[0;34m:\u001b[0m\u001b[0;34m\u001b[0m\u001b[0;34m\u001b[0m\u001b[0m\n\u001b[1;32m    496\u001b[0m         \u001b[0;32mif\u001b[0m \u001b[0mcancellation_manager\u001b[0m \u001b[0;32mis\u001b[0m \u001b[0;32mNone\u001b[0m\u001b[0;34m:\u001b[0m\u001b[0;34m\u001b[0m\u001b[0;34m\u001b[0m\u001b[0m\n\u001b[0;32m--> 497\u001b[0;31m           outputs = execute.execute(\n\u001b[0m\u001b[1;32m    498\u001b[0m               \u001b[0mstr\u001b[0m\u001b[0;34m(\u001b[0m\u001b[0mself\u001b[0m\u001b[0;34m.\u001b[0m\u001b[0msignature\u001b[0m\u001b[0;34m.\u001b[0m\u001b[0mname\u001b[0m\u001b[0;34m)\u001b[0m\u001b[0;34m,\u001b[0m\u001b[0;34m\u001b[0m\u001b[0;34m\u001b[0m\u001b[0m\n\u001b[1;32m    499\u001b[0m               \u001b[0mnum_outputs\u001b[0m\u001b[0;34m=\u001b[0m\u001b[0mself\u001b[0m\u001b[0;34m.\u001b[0m\u001b[0m_num_outputs\u001b[0m\u001b[0;34m,\u001b[0m\u001b[0;34m\u001b[0m\u001b[0;34m\u001b[0m\u001b[0m\n",
      "\u001b[0;32m~/opt/anaconda3/lib/python3.9/site-packages/tensorflow/python/eager/execute.py\u001b[0m in \u001b[0;36mquick_execute\u001b[0;34m(op_name, num_outputs, inputs, attrs, ctx, name)\u001b[0m\n\u001b[1;32m     52\u001b[0m   \u001b[0;32mtry\u001b[0m\u001b[0;34m:\u001b[0m\u001b[0;34m\u001b[0m\u001b[0;34m\u001b[0m\u001b[0m\n\u001b[1;32m     53\u001b[0m     \u001b[0mctx\u001b[0m\u001b[0;34m.\u001b[0m\u001b[0mensure_initialized\u001b[0m\u001b[0;34m(\u001b[0m\u001b[0;34m)\u001b[0m\u001b[0;34m\u001b[0m\u001b[0;34m\u001b[0m\u001b[0m\n\u001b[0;32m---> 54\u001b[0;31m     tensors = pywrap_tfe.TFE_Py_Execute(ctx._handle, device_name, op_name,\n\u001b[0m\u001b[1;32m     55\u001b[0m                                         inputs, attrs, num_outputs)\n\u001b[1;32m     56\u001b[0m   \u001b[0;32mexcept\u001b[0m \u001b[0mcore\u001b[0m\u001b[0;34m.\u001b[0m\u001b[0m_NotOkStatusException\u001b[0m \u001b[0;32mas\u001b[0m \u001b[0me\u001b[0m\u001b[0;34m:\u001b[0m\u001b[0;34m\u001b[0m\u001b[0;34m\u001b[0m\u001b[0m\n",
      "\u001b[0;31mKeyboardInterrupt\u001b[0m: "
     ]
    }
   ],
   "source": [
    "history = vae.fit(train_data,\n",
    "                  callbacks=callbacks,\n",
    "                  validation_data=(val_data, val_data),\n",
    "                  epochs=500, batch_size=128)"
   ]
  },
  {
   "cell_type": "code",
   "execution_count": null,
   "id": "8704752b-f670-4fda-8e29-7723ed80e152",
   "metadata": {},
   "outputs": [],
   "source": [
    "import matplotlib.pyplot as plt"
   ]
  },
  {
   "cell_type": "code",
   "execution_count": null,
   "id": "f732213e-29ed-49c6-9ce1-5a38134573b5",
   "metadata": {},
   "outputs": [],
   "source": [
    "# explore the model"
   ]
  },
  {
   "cell_type": "code",
   "execution_count": 33,
   "id": "6e611a2a-0516-4757-a928-09465ed04364",
   "metadata": {},
   "outputs": [],
   "source": [
    "vae: VAE = VAE(encoder, decoder)"
   ]
  },
  {
   "cell_type": "code",
   "execution_count": 9,
   "id": "78050e1b-df58-4749-9372-0abe2305127e",
   "metadata": {},
   "outputs": [
    {
     "data": {
      "text/plain": [
       "<__main__.VAE at 0x7fbc283ff130>"
      ]
     },
     "execution_count": 9,
     "metadata": {},
     "output_type": "execute_result"
    }
   ],
   "source": [
    "vae # how to inspect?, does this reset?\n",
    "# memory representation"
   ]
  },
  {
   "cell_type": "code",
   "execution_count": null,
   "id": "060e9e02-9a1b-4e89-a69e-2402bd986461",
   "metadata": {},
   "outputs": [],
   "source": [
    "vae"
   ]
  },
  {
   "cell_type": "code",
   "execution_count": 34,
   "id": "370743cc-d2af-48c1-8821-e601e1460b2f",
   "metadata": {},
   "outputs": [],
   "source": [
    "vae.compile(optimizer=keras.optimizers.Adam()) # does this reset"
   ]
  },
  {
   "cell_type": "code",
   "execution_count": null,
   "id": "ea725c4f-ab33-47fe-abf0-8b2903717f70",
   "metadata": {},
   "outputs": [],
   "source": [
    "https://keras.io/api/models/model_training_apis/"
   ]
  },
  {
   "cell_type": "code",
   "execution_count": 25,
   "id": "edd744c1-4c11-49c6-b78e-9cf679831e64",
   "metadata": {},
   "outputs": [],
   "source": [
    "model: VAE = VAE(encoder, decoder) # model is free variable"
   ]
  },
  {
   "cell_type": "code",
   "execution_count": 26,
   "id": "ed25f1f0-a67f-461f-a8e1-cf69f0a88f08",
   "metadata": {},
   "outputs": [],
   "source": [
    "model.compile(optimizer=keras.optimizers.Adam())"
   ]
  },
  {
   "cell_type": "code",
   "execution_count": 27,
   "id": "240053ae-3fff-4632-8b7d-d1d7579c41e8",
   "metadata": {
    "tags": []
   },
   "outputs": [
    {
     "ename": "ValueError",
     "evalue": "This model has not yet been built. Build the model first by calling `build()` or by calling the model on a batch of data.",
     "output_type": "error",
     "traceback": [
      "\u001b[0;31m---------------------------------------------------------------------------\u001b[0m",
      "\u001b[0;31mValueError\u001b[0m                                Traceback (most recent call last)",
      "\u001b[0;32m/var/folders/5v/88tvwqd94gs4dfr3h6rt1_w0qd13bg/T/ipykernel_38186/3470139634.py\u001b[0m in \u001b[0;36m<module>\u001b[0;34m\u001b[0m\n\u001b[0;32m----> 1\u001b[0;31m \u001b[0mmodel\u001b[0m\u001b[0;34m.\u001b[0m\u001b[0msummary\u001b[0m\u001b[0;34m(\u001b[0m\u001b[0;34m)\u001b[0m\u001b[0;34m\u001b[0m\u001b[0;34m\u001b[0m\u001b[0m\n\u001b[0m",
      "\u001b[0;32m~/opt/anaconda3/lib/python3.9/site-packages/keras/engine/training.py\u001b[0m in \u001b[0;36msummary\u001b[0;34m(self, line_length, positions, print_fn, expand_nested, show_trainable)\u001b[0m\n\u001b[1;32m   2867\u001b[0m     \"\"\"\n\u001b[1;32m   2868\u001b[0m     \u001b[0;32mif\u001b[0m \u001b[0;32mnot\u001b[0m \u001b[0mself\u001b[0m\u001b[0;34m.\u001b[0m\u001b[0mbuilt\u001b[0m\u001b[0;34m:\u001b[0m\u001b[0;34m\u001b[0m\u001b[0;34m\u001b[0m\u001b[0m\n\u001b[0;32m-> 2869\u001b[0;31m       raise ValueError(\n\u001b[0m\u001b[1;32m   2870\u001b[0m           \u001b[0;34m'This model has not yet been built. '\u001b[0m\u001b[0;34m\u001b[0m\u001b[0;34m\u001b[0m\u001b[0m\n\u001b[1;32m   2871\u001b[0m           \u001b[0;34m'Build the model first by calling `build()` or by calling '\u001b[0m\u001b[0;34m\u001b[0m\u001b[0;34m\u001b[0m\u001b[0m\n",
      "\u001b[0;31mValueError\u001b[0m: This model has not yet been built. Build the model first by calling `build()` or by calling the model on a batch of data."
     ]
    }
   ],
   "source": [
    "model.summary()"
   ]
  },
  {
   "cell_type": "markdown",
   "id": "7d73be99-8489-4ce5-a855-ca59c14853c7",
   "metadata": {},
   "source": [
    "add text on sequence of fit calling (subtype burn-in)\n",
    "\n",
    "This is an idea for manuscript content based on pretraining the model on certain subtybes and final training on the subtype of interest. It also has to do with the different dimensions of the input and deconsctructing the model by saving subcomponents such as pre-trained layers to solve the dimensionality difference between the 26 TCGA cohorts"
   ]
  },
  {
   "cell_type": "code",
   "execution_count": 38,
   "id": "5b807b8d-99fe-4170-90f8-91184a85f1df",
   "metadata": {},
   "outputs": [
    {
     "data": {
      "text/plain": [
       "(800, 100)"
      ]
     },
     "execution_count": 38,
     "metadata": {},
     "output_type": "execute_result"
    }
   ],
   "source": [
    "train_data.shape"
   ]
  },
  {
   "cell_type": "code",
   "execution_count": 37,
   "id": "4a9fe7bd-fe79-4bbf-9ea8-0020c67a4126",
   "metadata": {},
   "outputs": [
    {
     "data": {
      "text/plain": [
       "array([[0.637, 0.407, 0.352, ..., 0.743, 0.501, 0.618],\n",
       "       [0.81 , 0.894, 0.491, ..., 0.811, 0.686, 0.574],\n",
       "       [0.653, 0.329, 0.28 , ..., 0.964, 0.527, 0.735],\n",
       "       ...,\n",
       "       [0.39 , 0.357, 0.406, ..., 0.58 , 0.593, 0.558],\n",
       "       [0.448, 0.688, 0.579, ..., 0.455, 0.732, 0.617],\n",
       "       [0.986, 0.776, 0.577, ..., 0.561, 0.519, 0.923]])"
      ]
     },
     "execution_count": 37,
     "metadata": {},
     "output_type": "execute_result"
    }
   ],
   "source": [
    "train_data"
   ]
  },
  {
   "cell_type": "code",
   "execution_count": 13,
   "id": "4ca40a73-9bb6-4434-8f20-56aeb4a2c49b",
   "metadata": {
    "collapsed": true,
    "jupyter": {
     "outputs_hidden": true
    },
    "tags": []
   },
   "outputs": [
    {
     "name": "stdout",
     "output_type": "stream",
     "text": [
      "Epoch 1/500\n",
      "7/7 [==============================] - 1s 23ms/step - loss: 0.0250 - reconstruction_loss: 0.0242 - kl_loss: 8.2750e-06 - val_total_loss: 0.0000e+00 - val_reconstruction_loss: 0.0000e+00 - val_kl_loss: 0.0000e+00\n",
      "Epoch 2/500\n",
      "7/7 [==============================] - 0s 5ms/step - loss: 0.0247 - reconstruction_loss: 0.0244 - kl_loss: 9.2560e-07 - val_total_loss: 0.0000e+00 - val_reconstruction_loss: 0.0000e+00 - val_kl_loss: 0.0000e+00\n",
      "Epoch 3/500\n",
      "7/7 [==============================] - 0s 5ms/step - loss: 0.0246 - reconstruction_loss: 0.0248 - kl_loss: 8.5582e-07 - val_total_loss: 0.0000e+00 - val_reconstruction_loss: 0.0000e+00 - val_kl_loss: 0.0000e+00\n",
      "Epoch 4/500\n",
      "7/7 [==============================] - 0s 5ms/step - loss: 0.0245 - reconstruction_loss: 0.0246 - kl_loss: 3.0201e-07 - val_total_loss: 0.0000e+00 - val_reconstruction_loss: 0.0000e+00 - val_kl_loss: 0.0000e+00\n",
      "Epoch 5/500\n",
      "7/7 [==============================] - 0s 5ms/step - loss: 0.0245 - reconstruction_loss: 0.0247 - kl_loss: 2.0436e-07 - val_total_loss: 0.0000e+00 - val_reconstruction_loss: 0.0000e+00 - val_kl_loss: 0.0000e+00\n",
      "Epoch 6/500\n",
      "7/7 [==============================] - 0s 6ms/step - loss: 0.0243 - reconstruction_loss: 0.0244 - kl_loss: 1.1495e-07 - val_total_loss: 0.0000e+00 - val_reconstruction_loss: 0.0000e+00 - val_kl_loss: 0.0000e+00\n"
     ]
    }
   ],
   "source": [
    "history = model.fit(train_data, # run on make_classification data\n",
    "                  callbacks=callbacks,\n",
    "                  validation_data=(val_data, val_data),\n",
    "                  epochs=500, batch_size=128)"
   ]
  },
  {
   "cell_type": "code",
   "execution_count": 14,
   "id": "d2ef234b-db7b-4019-90b9-5b36fbe29082",
   "metadata": {},
   "outputs": [],
   "source": [
    "# how to set # epochs? - says 500 but only does 7 - early stopping"
   ]
  },
  {
   "cell_type": "code",
   "execution_count": 15,
   "id": "8f102e97-b5fa-42b0-ba24-7c562cc1d09b",
   "metadata": {},
   "outputs": [
    {
     "data": {
      "image/png": "[encoded data removed]",
      "text/plain": [
       "<Figure size 432x288 with 1 Axes>"
      ]
     },
     "metadata": {
      "needs_background": "light"
     },
     "output_type": "display_data"
    }
   ],
   "source": [
    "# not resetting the model between runs / data sets (?)\n",
    "plt.plot(history.history['loss'],label=\"loss\")\n",
    "plt.plot(history.history['kl_loss'],label=\"kl_loss\")\n",
    "plt.title(\n",
    "    # file.index.name+\n",
    "          'Dense layer VAE embedding loss, latent dim = '+\n",
    "         str(latent_dim))\n",
    "plt.xlabel('Epoch')\n",
    "plt.ylabel('Loss')\n",
    "plt.annotate('VAE layer type: Dense\\ndtype: ?, normalized',\n",
    "            xy=(.4, .8), xycoords='figure fraction',\n",
    "            horizontalalignment='left', verticalalignment='top',\n",
    "            # fontsize=20\n",
    "            )\n",
    "plt.legend(loc=\"lower left\")\n",
    "plt.savefig('rvrs_out/'+\n",
    "            # file.index.name+'_'+\n",
    "            str(500)+'_epochs__latent_dim_'+str(latent_dim)+'_2022-08-24.png')"
   ]
  },
  {
   "cell_type": "code",
   "execution_count": null,
   "id": "4e643aa4-0c35-4a48-8974-61d7f51cb2d2",
   "metadata": {},
   "outputs": [],
   "source": [
    "# Original:"
   ]
  },
  {
   "cell_type": "code",
   "execution_count": 1,
   "id": "23ad84fe-e19d-40a8-9782-ea5901a267d8",
   "metadata": {},
   "outputs": [
    {
     "name": "stdout",
     "output_type": "stream",
     "text": [
      "Interactive namespace is empty.\n"
     ]
    }
   ],
   "source": [
    "%whos"
   ]
  },
  {
   "cell_type": "code",
   "execution_count": null,
   "id": "c4b4c990-2170-4f03-8699-0efd579e982e",
   "metadata": {},
   "outputs": [],
   "source": [
    "# Building the data inline\n",
    "# Ok, version 2 here put the entire VAE into one single notebook cell"
   ]
  },
  {
   "cell_type": "code",
   "execution_count": 2,
   "id": "18f1d616-0b3d-48b5-95a5-bf6044a3f816",
   "metadata": {},
   "outputs": [
    {
     "name": "stdout",
     "output_type": "stream",
     "text": [
      "Model: \"encoder\"\n",
      "__________________________________________________________________________________________________\n",
      " Layer (type)                   Output Shape         Param #     Connected to                     \n",
      "==================================================================================================\n",
      " input_1 (InputLayer)           [(None, 100)]        0           []                               \n",
      "                                                                                                  \n",
      " dense (Dense)                  (None, 50)           5050        ['input_1[0][0]']                \n",
      "                                                                                                  \n",
      " dense_1 (Dense)                (None, 33)           1683        ['dense[0][0]']                  \n",
      "                                                                                                  \n",
      " dense_2 (Dense)                (None, 25)           850         ['dense_1[0][0]']                \n",
      "                                                                                                  \n",
      " z_mean (Dense)                 (None, 10)           260         ['dense_2[0][0]']                \n",
      "                                                                                                  \n",
      " z_log_var (Dense)              (None, 10)           260         ['dense_2[0][0]']                \n",
      "                                                                                                  \n",
      " sampling (Sampling)            (None, 10)           0           ['z_mean[0][0]',                 \n",
      "                                                                  'z_log_var[0][0]']              \n",
      "                                                                                                  \n",
      "==================================================================================================\n",
      "Total params: 8,103\n",
      "Trainable params: 8,103\n",
      "Non-trainable params: 0\n",
      "__________________________________________________________________________________________________\n",
      "Model: \"decoder\"\n",
      "_________________________________________________________________\n",
      " Layer (type)                Output Shape              Param #   \n",
      "=================================================================\n",
      " input_2 (InputLayer)        [(None, 10)]              0         \n",
      "                                                                 \n",
      " dense_3 (Dense)             (None, 25)                275       \n",
      "                                                                 \n",
      " dense_4 (Dense)             (None, 33)                858       \n",
      "                                                                 \n",
      " dense_5 (Dense)             (None, 50)                1700      \n",
      "                                                                 \n",
      " dense_6 (Dense)             (None, 100)               5100      \n",
      "                                                                 \n",
      "=================================================================\n",
      "Total params: 7,933\n",
      "Trainable params: 7,933\n",
      "Non-trainable params: 0\n",
      "_________________________________________________________________\n"
     ]
    },
    {
     "name": "stderr",
     "output_type": "stream",
     "text": [
      "2022-08-24 17:00:16.993390: I tensorflow/core/platform/cpu_feature_guard.cc:193] This TensorFlow binary is optimized with oneAPI Deep Neural Network Library (oneDNN) to use the following CPU instructions in performance-critical operations:  AVX2 FMA\n",
      "To enable them in other operations, rebuild TensorFlow with the appropriate compiler flags.\n"
     ]
    },
    {
     "name": "stdout",
     "output_type": "stream",
     "text": [
      "Epoch 1/500\n",
      "7/7 [==============================] - 1s 33ms/step - loss: 0.3454 - reconstruction_loss: 0.2278 - kl_loss: 0.0689 - val_total_loss: 0.0000e+00 - val_reconstruction_loss: 0.0000e+00 - val_kl_loss: 0.0000e+00\n",
      "Epoch 2/500\n",
      "7/7 [==============================] - 0s 5ms/step - loss: 0.2180 - reconstruction_loss: 0.1941 - kl_loss: 0.0122 - val_total_loss: 0.0000e+00 - val_reconstruction_loss: 0.0000e+00 - val_kl_loss: 0.0000e+00\n",
      "Epoch 3/500\n",
      "7/7 [==============================] - 0s 5ms/step - loss: 0.1658 - reconstruction_loss: 0.1516 - kl_loss: 0.0045 - val_total_loss: 0.0000e+00 - val_reconstruction_loss: 0.0000e+00 - val_kl_loss: 0.0000e+00\n",
      "Epoch 4/500\n",
      "7/7 [==============================] - 0s 5ms/step - loss: 0.1185 - reconstruction_loss: 0.1104 - kl_loss: 0.0028 - val_total_loss: 0.0000e+00 - val_reconstruction_loss: 0.0000e+00 - val_kl_loss: 0.0000e+00\n",
      "Epoch 5/500\n",
      "7/7 [==============================] - 0s 10ms/step - loss: 0.0889 - reconstruction_loss: 0.0852 - kl_loss: 0.0012 - val_total_loss: 0.0000e+00 - val_reconstruction_loss: 0.0000e+00 - val_kl_loss: 0.0000e+00\n",
      "Epoch 6/500\n",
      "7/7 [==============================] - 0s 5ms/step - loss: 0.0715 - reconstruction_loss: 0.0686 - kl_loss: 8.0843e-04 - val_total_loss: 0.0000e+00 - val_reconstruction_loss: 0.0000e+00 - val_kl_loss: 0.0000e+00\n",
      "Epoch 7/500\n",
      "7/7 [==============================] - 0s 5ms/step - loss: 0.0576 - reconstruction_loss: 0.0560 - kl_loss: 6.1356e-04 - val_total_loss: 0.0000e+00 - val_reconstruction_loss: 0.0000e+00 - val_kl_loss: 0.0000e+00\n",
      "Epoch 8/500\n",
      "7/7 [==============================] - 0s 5ms/step - loss: 0.0525 - reconstruction_loss: 0.0514 - kl_loss: 4.1067e-04 - val_total_loss: 0.0000e+00 - val_reconstruction_loss: 0.0000e+00 - val_kl_loss: 0.0000e+00\n",
      "Epoch 9/500\n",
      "7/7 [==============================] - 0s 5ms/step - loss: 0.0478 - reconstruction_loss: 0.0461 - kl_loss: 2.7458e-04 - val_total_loss: 0.0000e+00 - val_reconstruction_loss: 0.0000e+00 - val_kl_loss: 0.0000e+00\n",
      "Epoch 10/500\n",
      "7/7 [==============================] - 0s 5ms/step - loss: 0.0421 - reconstruction_loss: 0.0419 - kl_loss: 1.8591e-04 - val_total_loss: 0.0000e+00 - val_reconstruction_loss: 0.0000e+00 - val_kl_loss: 0.0000e+00\n",
      "Epoch 11/500\n",
      "7/7 [==============================] - 0s 5ms/step - loss: 0.0401 - reconstruction_loss: 0.0397 - kl_loss: 1.2373e-04 - val_total_loss: 0.0000e+00 - val_reconstruction_loss: 0.0000e+00 - val_kl_loss: 0.0000e+00\n",
      "Epoch 12/500\n",
      "7/7 [==============================] - 0s 5ms/step - loss: 0.0389 - reconstruction_loss: 0.0389 - kl_loss: 9.0558e-05 - val_total_loss: 0.0000e+00 - val_reconstruction_loss: 0.0000e+00 - val_kl_loss: 0.0000e+00\n",
      "Epoch 13/500\n",
      "7/7 [==============================] - 0s 5ms/step - loss: 0.0366 - reconstruction_loss: 0.0366 - kl_loss: 6.9169e-05 - val_total_loss: 0.0000e+00 - val_reconstruction_loss: 0.0000e+00 - val_kl_loss: 0.0000e+00\n",
      "Epoch 14/500\n",
      "7/7 [==============================] - 0s 5ms/step - loss: 0.0361 - reconstruction_loss: 0.0360 - kl_loss: 4.7395e-05 - val_total_loss: 0.0000e+00 - val_reconstruction_loss: 0.0000e+00 - val_kl_loss: 0.0000e+00\n",
      "Epoch 15/500\n",
      "7/7 [==============================] - 0s 5ms/step - loss: 0.0353 - reconstruction_loss: 0.0348 - kl_loss: 3.7278e-05 - val_total_loss: 0.0000e+00 - val_reconstruction_loss: 0.0000e+00 - val_kl_loss: 0.0000e+00\n",
      "Epoch 16/500\n",
      "7/7 [==============================] - 0s 5ms/step - loss: 0.0353 - reconstruction_loss: 0.0348 - kl_loss: 2.9629e-05 - val_total_loss: 0.0000e+00 - val_reconstruction_loss: 0.0000e+00 - val_kl_loss: 0.0000e+00\n",
      "Epoch 17/500\n",
      "7/7 [==============================] - 0s 5ms/step - loss: 0.0343 - reconstruction_loss: 0.0338 - kl_loss: 2.6297e-05 - val_total_loss: 0.0000e+00 - val_reconstruction_loss: 0.0000e+00 - val_kl_loss: 0.0000e+00\n",
      "Epoch 18/500\n",
      "7/7 [==============================] - 0s 5ms/step - loss: 0.0342 - reconstruction_loss: 0.0337 - kl_loss: 2.2504e-05 - val_total_loss: 0.0000e+00 - val_reconstruction_loss: 0.0000e+00 - val_kl_loss: 0.0000e+00\n",
      "Epoch 19/500\n",
      "7/7 [==============================] - 0s 5ms/step - loss: 0.0330 - reconstruction_loss: 0.0322 - kl_loss: 2.0691e-05 - val_total_loss: 0.0000e+00 - val_reconstruction_loss: 0.0000e+00 - val_kl_loss: 0.0000e+00\n",
      "Epoch 20/500\n",
      "7/7 [==============================] - 0s 6ms/step - loss: 0.0322 - reconstruction_loss: 0.0318 - kl_loss: 1.8151e-05 - val_total_loss: 0.0000e+00 - val_reconstruction_loss: 0.0000e+00 - val_kl_loss: 0.0000e+00\n",
      "Epoch 21/500\n",
      "7/7 [==============================] - 0s 6ms/step - loss: 0.0308 - reconstruction_loss: 0.0307 - kl_loss: 1.6327e-05 - val_total_loss: 0.0000e+00 - val_reconstruction_loss: 0.0000e+00 - val_kl_loss: 0.0000e+00\n",
      "Epoch 22/500\n",
      "7/7 [==============================] - 0s 5ms/step - loss: 0.0314 - reconstruction_loss: 0.0312 - kl_loss: 1.5548e-05 - val_total_loss: 0.0000e+00 - val_reconstruction_loss: 0.0000e+00 - val_kl_loss: 0.0000e+00\n",
      "Epoch 23/500\n",
      "7/7 [==============================] - 0s 5ms/step - loss: 0.0311 - reconstruction_loss: 0.0305 - kl_loss: 1.4578e-05 - val_total_loss: 0.0000e+00 - val_reconstruction_loss: 0.0000e+00 - val_kl_loss: 0.0000e+00\n",
      "Epoch 24/500\n",
      "7/7 [==============================] - 0s 5ms/step - loss: 0.0301 - reconstruction_loss: 0.0306 - kl_loss: 1.4043e-05 - val_total_loss: 0.0000e+00 - val_reconstruction_loss: 0.0000e+00 - val_kl_loss: 0.0000e+00\n",
      "Epoch 25/500\n",
      "7/7 [==============================] - 0s 5ms/step - loss: 0.0289 - reconstruction_loss: 0.0292 - kl_loss: 2.3184e-05 - val_total_loss: 0.0000e+00 - val_reconstruction_loss: 0.0000e+00 - val_kl_loss: 0.0000e+00\n",
      "Epoch 26/500\n",
      "7/7 [==============================] - 0s 4ms/step - loss: 0.0292 - reconstruction_loss: 0.0290 - kl_loss: 1.1115e-05 - val_total_loss: 0.0000e+00 - val_reconstruction_loss: 0.0000e+00 - val_kl_loss: 0.0000e+00\n",
      "Epoch 27/500\n",
      "7/7 [==============================] - 0s 5ms/step - loss: 0.0285 - reconstruction_loss: 0.0288 - kl_loss: 1.0637e-05 - val_total_loss: 0.0000e+00 - val_reconstruction_loss: 0.0000e+00 - val_kl_loss: 0.0000e+00\n",
      "Epoch 28/500\n",
      "7/7 [==============================] - 0s 5ms/step - loss: 0.0284 - reconstruction_loss: 0.0280 - kl_loss: 9.7772e-06 - val_total_loss: 0.0000e+00 - val_reconstruction_loss: 0.0000e+00 - val_kl_loss: 0.0000e+00\n",
      "Epoch 29/500\n",
      "7/7 [==============================] - 0s 5ms/step - loss: 0.0281 - reconstruction_loss: 0.0278 - kl_loss: 9.0993e-06 - val_total_loss: 0.0000e+00 - val_reconstruction_loss: 0.0000e+00 - val_kl_loss: 0.0000e+00\n",
      "Epoch 30/500\n",
      "7/7 [==============================] - 0s 5ms/step - loss: 0.0277 - reconstruction_loss: 0.0275 - kl_loss: 8.5350e-06 - val_total_loss: 0.0000e+00 - val_reconstruction_loss: 0.0000e+00 - val_kl_loss: 0.0000e+00\n",
      "Epoch 31/500\n",
      "7/7 [==============================] - 0s 5ms/step - loss: 0.0275 - reconstruction_loss: 0.0273 - kl_loss: 7.9163e-06 - val_total_loss: 0.0000e+00 - val_reconstruction_loss: 0.0000e+00 - val_kl_loss: 0.0000e+00\n",
      "Epoch 32/500\n",
      "7/7 [==============================] - 0s 5ms/step - loss: 0.0269 - reconstruction_loss: 0.0268 - kl_loss: 7.7172e-06 - val_total_loss: 0.0000e+00 - val_reconstruction_loss: 0.0000e+00 - val_kl_loss: 0.0000e+00\n",
      "Epoch 33/500\n",
      "7/7 [==============================] - 0s 4ms/step - loss: 0.0271 - reconstruction_loss: 0.0268 - kl_loss: 7.8841e-06 - val_total_loss: 0.0000e+00 - val_reconstruction_loss: 0.0000e+00 - val_kl_loss: 0.0000e+00\n",
      "Epoch 34/500\n",
      "7/7 [==============================] - 0s 5ms/step - loss: 0.0268 - reconstruction_loss: 0.0268 - kl_loss: 8.7869e-06 - val_total_loss: 0.0000e+00 - val_reconstruction_loss: 0.0000e+00 - val_kl_loss: 0.0000e+00\n",
      "Epoch 35/500\n",
      "7/7 [==============================] - 0s 5ms/step - loss: 0.0259 - reconstruction_loss: 0.0261 - kl_loss: 6.4468e-06 - val_total_loss: 0.0000e+00 - val_reconstruction_loss: 0.0000e+00 - val_kl_loss: 0.0000e+00\n",
      "Epoch 36/500\n",
      "7/7 [==============================] - 0s 4ms/step - loss: 0.0260 - reconstruction_loss: 0.0256 - kl_loss: 6.0941e-06 - val_total_loss: 0.0000e+00 - val_reconstruction_loss: 0.0000e+00 - val_kl_loss: 0.0000e+00\n",
      "Epoch 37/500\n",
      "7/7 [==============================] - 0s 5ms/step - loss: 0.0260 - reconstruction_loss: 0.0256 - kl_loss: 5.7793e-06 - val_total_loss: 0.0000e+00 - val_reconstruction_loss: 0.0000e+00 - val_kl_loss: 0.0000e+00\n",
      "Epoch 38/500\n",
      "7/7 [==============================] - 0s 5ms/step - loss: 0.0256 - reconstruction_loss: 0.0255 - kl_loss: 5.4572e-06 - val_total_loss: 0.0000e+00 - val_reconstruction_loss: 0.0000e+00 - val_kl_loss: 0.0000e+00\n",
      "Epoch 39/500\n",
      "7/7 [==============================] - 0s 5ms/step - loss: 0.0256 - reconstruction_loss: 0.0257 - kl_loss: 5.2527e-06 - val_total_loss: 0.0000e+00 - val_reconstruction_loss: 0.0000e+00 - val_kl_loss: 0.0000e+00\n",
      "Epoch 40/500\n",
      "7/7 [==============================] - 0s 5ms/step - loss: 0.0257 - reconstruction_loss: 0.0257 - kl_loss: 5.8398e-06 - val_total_loss: 0.0000e+00 - val_reconstruction_loss: 0.0000e+00 - val_kl_loss: 0.0000e+00\n",
      "Epoch 41/500\n",
      "7/7 [==============================] - 0s 5ms/step - loss: 0.0253 - reconstruction_loss: 0.0255 - kl_loss: 4.9824e-06 - val_total_loss: 0.0000e+00 - val_reconstruction_loss: 0.0000e+00 - val_kl_loss: 0.0000e+00\n",
      "Epoch 42/500\n",
      "7/7 [==============================] - 0s 5ms/step - loss: 0.0248 - reconstruction_loss: 0.0251 - kl_loss: 5.1233e-06 - val_total_loss: 0.0000e+00 - val_reconstruction_loss: 0.0000e+00 - val_kl_loss: 0.0000e+00\n",
      "Epoch 43/500\n",
      "7/7 [==============================] - 0s 5ms/step - loss: 0.0251 - reconstruction_loss: 0.0255 - kl_loss: 4.4423e-06 - val_total_loss: 0.0000e+00 - val_reconstruction_loss: 0.0000e+00 - val_kl_loss: 0.0000e+00\n",
      "Epoch 44/500\n",
      "7/7 [==============================] - 0s 4ms/step - loss: 0.0248 - reconstruction_loss: 0.0256 - kl_loss: 4.6135e-06 - val_total_loss: 0.0000e+00 - val_reconstruction_loss: 0.0000e+00 - val_kl_loss: 0.0000e+00\n",
      "Epoch 45/500\n",
      "7/7 [==============================] - 0s 5ms/step - loss: 0.0251 - reconstruction_loss: 0.0247 - kl_loss: 4.1215e-06 - val_total_loss: 0.0000e+00 - val_reconstruction_loss: 0.0000e+00 - val_kl_loss: 0.0000e+00\n",
      "Epoch 46/500\n",
      "7/7 [==============================] - 0s 5ms/step - loss: 0.0254 - reconstruction_loss: 0.0246 - kl_loss: 4.1333e-06 - val_total_loss: 0.0000e+00 - val_reconstruction_loss: 0.0000e+00 - val_kl_loss: 0.0000e+00\n",
      "Epoch 47/500\n",
      "7/7 [==============================] - 0s 5ms/step - loss: 0.0249 - reconstruction_loss: 0.0247 - kl_loss: 3.9328e-06 - val_total_loss: 0.0000e+00 - val_reconstruction_loss: 0.0000e+00 - val_kl_loss: 0.0000e+00\n",
      "Epoch 48/500\n",
      "7/7 [==============================] - 0s 4ms/step - loss: 0.0243 - reconstruction_loss: 0.0251 - kl_loss: 3.5940e-06 - val_total_loss: 0.0000e+00 - val_reconstruction_loss: 0.0000e+00 - val_kl_loss: 0.0000e+00\n",
      "Epoch 49/500\n",
      "7/7 [==============================] - 0s 4ms/step - loss: 0.0246 - reconstruction_loss: 0.0254 - kl_loss: 3.7954e-06 - val_total_loss: 0.0000e+00 - val_reconstruction_loss: 0.0000e+00 - val_kl_loss: 0.0000e+00\n",
      "Epoch 50/500\n",
      "7/7 [==============================] - 0s 6ms/step - loss: 0.0248 - reconstruction_loss: 0.0244 - kl_loss: 3.2746e-06 - val_total_loss: 0.0000e+00 - val_reconstruction_loss: 0.0000e+00 - val_kl_loss: 0.0000e+00\n",
      "Epoch 51/500\n",
      "7/7 [==============================] - 0s 5ms/step - loss: 0.0245 - reconstruction_loss: 0.0244 - kl_loss: 3.1422e-06 - val_total_loss: 0.0000e+00 - val_reconstruction_loss: 0.0000e+00 - val_kl_loss: 0.0000e+00\n",
      "Epoch 52/500\n",
      "7/7 [==============================] - 0s 5ms/step - loss: 0.0250 - reconstruction_loss: 0.0245 - kl_loss: 3.1294e-06 - val_total_loss: 0.0000e+00 - val_reconstruction_loss: 0.0000e+00 - val_kl_loss: 0.0000e+00\n",
      "Epoch 53/500\n",
      "7/7 [==============================] - 0s 7ms/step - loss: 0.0241 - reconstruction_loss: 0.0243 - kl_loss: 2.9226e-06 - val_total_loss: 0.0000e+00 - val_reconstruction_loss: 0.0000e+00 - val_kl_loss: 0.0000e+00\n",
      "Epoch 54/500\n",
      "7/7 [==============================] - 0s 5ms/step - loss: 0.0246 - reconstruction_loss: 0.0246 - kl_loss: 3.0556e-06 - val_total_loss: 0.0000e+00 - val_reconstruction_loss: 0.0000e+00 - val_kl_loss: 0.0000e+00\n",
      "Epoch 55/500\n",
      "7/7 [==============================] - 0s 5ms/step - loss: 0.0242 - reconstruction_loss: 0.0244 - kl_loss: 2.6830e-06 - val_total_loss: 0.0000e+00 - val_reconstruction_loss: 0.0000e+00 - val_kl_loss: 0.0000e+00\n",
      "Epoch 56/500\n",
      "7/7 [==============================] - 0s 5ms/step - loss: 0.0245 - reconstruction_loss: 0.0245 - kl_loss: 2.5809e-06 - val_total_loss: 0.0000e+00 - val_reconstruction_loss: 0.0000e+00 - val_kl_loss: 0.0000e+00\n",
      "Epoch 57/500\n",
      "7/7 [==============================] - 0s 4ms/step - loss: 0.0244 - reconstruction_loss: 0.0245 - kl_loss: 2.5145e-06 - val_total_loss: 0.0000e+00 - val_reconstruction_loss: 0.0000e+00 - val_kl_loss: 0.0000e+00\n",
      "Epoch 58/500\n",
      "7/7 [==============================] - 0s 5ms/step - loss: 0.0243 - reconstruction_loss: 0.0246 - kl_loss: 2.4928e-06 - val_total_loss: 0.0000e+00 - val_reconstruction_loss: 0.0000e+00 - val_kl_loss: 0.0000e+00\n",
      "25/25 [==============================] - 0s 870us/step\n"
     ]
    }
   ],
   "source": [
    "import numpy as np\n",
    "import tensorflow as tf\n",
    "from tensorflow import keras\n",
    "from tensorflow.keras import layers\n",
    "import pandas as pd\n",
    "from sklearn.preprocessing import MinMaxScaler\n",
    "from sklearn.datasets import make_classification\n",
    "from sklearn.model_selection import train_test_split\n",
    "from tensorflow.keras.callbacks import EarlyStopping, CSVLogger\n",
    "import os\n",
    "from pathlib import Path\n",
    "import json\n",
    "from tensorflow.keras.models import Model\n",
    "\n",
    "class VAE(keras.Model):\n",
    "    def __init__(self, encoder, decoder, **kwargs):\n",
    "        super(VAE, self).__init__(**kwargs)\n",
    "        \n",
    "        self.encoder: Model = encoder\n",
    "        self.decoder: Model = decoder\n",
    "        \n",
    "        self.total_loss_tracker = keras.metrics.Mean(name = \"total_loss\")\n",
    "        self.reconstruction_loss_tracker = keras.metrics.Mean(name = \"reconstruction_loss\")\n",
    "        self.kl_loss_tracker = keras.metrics.Mean(name = \"kl_loss\")\n",
    "\n",
    "    @property\n",
    "    def metrics(self):\n",
    "        return [\n",
    "            self.total_loss_tracker,\n",
    "            self.reconstruction_loss_tracker,\n",
    "            self.kl_loss_tracker,\n",
    "        ]\n",
    "\n",
    "    def train_step(self, data):\n",
    "        with tf.GradientTape() as tape:\n",
    "            z_mean, z_log_var, z = self.encoder(data)\n",
    "            reconstruction = self.decoder(z)\n",
    "            reconstruction_loss_fn = keras.losses.MeanSquaredError()\n",
    "            reconstruction_loss = reconstruction_loss_fn(data, reconstruction)\n",
    "            kl_loss = -0.5 * (1 + z_log_var - tf.square(z_mean) - tf.exp(z_log_var))\n",
    "            kl_loss = tf.reduce_mean(tf.reduce_sum(kl_loss, axis=1))\n",
    "            total_loss = reconstruction_loss + kl_loss\n",
    "        grads = tape.gradient(total_loss, self.trainable_weights)\n",
    "        self.optimizer.apply_gradients(zip(grads, self.trainable_weights))\n",
    "        self.total_loss_tracker.update_state(total_loss)\n",
    "        self.reconstruction_loss_tracker.update_state(reconstruction_loss)\n",
    "        self.kl_loss_tracker.update_state(kl_loss)\n",
    "        return {\n",
    "            \"loss\": self.total_loss_tracker.result(),\n",
    "            \"reconstruction_loss\": self.reconstruction_loss_tracker.result(),\n",
    "            \"kl_loss\": self.kl_loss_tracker.result(),\n",
    "        }\n",
    "\n",
    "    def call(self, inputs):\n",
    "        z_mean, z_log_var, z = self.encoder(inputs)\n",
    "        return self.decoder(z)\n",
    "\n",
    "\n",
    "class Sampling(layers.Layer):\n",
    "    \"\"\"Uses (z_mean, z_log_var) to sample z, the vector encoding a digit.\"\"\"\n",
    "\n",
    "    def call(self, inputs):\n",
    "        z_mean, z_log_var = inputs\n",
    "        batch = tf.shape(z_mean)[0]\n",
    "        dim = tf.shape(z_mean)[1]\n",
    "        epsilon = tf.keras.backend.random_normal(shape=(batch, dim))\n",
    "        return z_mean + tf.exp(0.5 * z_log_var) * epsilon\n",
    "\n",
    "latent_dim = 10\n",
    "base_path = 'rvrs_out'\n",
    "\n",
    "X, y = make_classification(n_samples=1000,\n",
    "                           n_features=100,\n",
    "                           n_informative=10,\n",
    "                           n_redundant=90,\n",
    "                           random_state=1,\n",
    "                           shift = 30)\n",
    "\n",
    "scaler = MinMaxScaler(feature_range=(0, 1))\n",
    "scaler = scaler.fit(X)\n",
    "X = scaler.transform(X)\n",
    "data = X\n",
    "\n",
    "data = np.trunc(1000 * data) / 1000\n",
    "\n",
    "X_train, X_val = train_test_split(data, test_size=0.2)\n",
    "\n",
    "train_data = X_train\n",
    "val_data = X_val\n",
    "\n",
    "input_dimensions = train_data.shape[1]\n",
    "\n",
    "encoder_inputs = keras.Input(shape=(input_dimensions,))\n",
    "x = layers.Dense(units=input_dimensions / 2, activation=\"relu\")(encoder_inputs)\n",
    "x = layers.Dense(units=input_dimensions / 3, activation=\"relu\")(x)\n",
    "x = layers.Dense(units=input_dimensions / 4, activation=\"relu\")(x)\n",
    "\n",
    "z_mean = layers.Dense(latent_dim, name=\"z_mean\")(x)\n",
    "z_log_var = layers.Dense(latent_dim, name=\"z_log_var\")(x)\n",
    "z = Sampling()([z_mean, z_log_var])\n",
    "\n",
    "encoder = keras.Model(encoder_inputs, [z_mean, z_log_var, z], name=\"encoder\")\n",
    "encoder.summary()\n",
    "\n",
    "latent_inputs = keras.Input(shape=(latent_dim,))\n",
    "x = layers.Dense(units=input_dimensions / 4, activation=\"relu\")(latent_inputs)\n",
    "x = layers.Dense(units=input_dimensions / 3, activation=\"relu\")(x)\n",
    "x = layers.Dense(units=input_dimensions / 2, activation=\"relu\")(x)\n",
    "\n",
    "decoder_outputs = layers.Dense(units=input_dimensions, activation=\"relu\")(x)\n",
    "\n",
    "decoder = keras.Model(latent_inputs, decoder_outputs, name=\"decoder\")\n",
    "decoder.summary()\n",
    "\n",
    "vae: VAE = VAE(encoder, decoder)\n",
    "vae.compile(optimizer=keras.optimizers.Adam())\n",
    "\n",
    "callbacks = []\n",
    "early_stop = EarlyStopping(monitor=\"reconstruction_loss\",\n",
    "                           mode=\"min\", patience=5,\n",
    "                           restore_best_weights=True)\n",
    "\n",
    "callbacks.append(early_stop)\n",
    "csv_logger = CSVLogger(os.path.join(base_path, 'training.log'), # Is this writing a file?\n",
    "                       separator='\\t')\n",
    "callbacks.append(csv_logger)\n",
    "history = vae.fit(train_data, # Fit the VAE, work backward to carve out minimum viable code path to run this function\n",
    "                  callbacks=callbacks,\n",
    "                  validation_data=(val_data, val_data),\n",
    "                  epochs=500, batch_size=128)\n",
    "\n",
    "z_mean, z_var, embedding = vae.encoder.predict(train_data)\n",
    "embedding = pd.DataFrame(embedding)"
   ]
  },
  {
   "cell_type": "code",
   "execution_count": 7,
   "id": "6bd57e44-bece-419a-8251-dc9d01128b72",
   "metadata": {},
   "outputs": [
    {
     "name": "stdout",
     "output_type": "stream",
     "text": [
      "Variable              Type             Data/Info\n",
      "------------------------------------------------\n",
      "CSVLogger             type             <class 'keras.callbacks.CSVLogger'>\n",
      "EarlyStopping         type             <class 'keras.callbacks.EarlyStopping'>\n",
      "MinMaxScaler          type             <class 'sklearn.preproces<...>sing._data.MinMaxScaler'>\n",
      "Model                 type             <class 'keras.engine.training.Model'>\n",
      "Path                  type             <class 'pathlib.Path'>\n",
      "Sampling              type             <class '__main__.Sampling'>\n",
      "VAE                   type             <class '__main__.VAE'>\n",
      "X                     ndarray          1000x100: 100000 elems, type `float64`, 800000 bytes (781.25 kb)\n",
      "X_train               ndarray          800x100: 80000 elems, type `float64`, 640000 bytes (625.0 kb)\n",
      "X_val                 ndarray          200x100: 20000 elems, type `float64`, 160000 bytes (156.25 kb)\n",
      "base_path             str              rvrs_out\n",
      "callbacks             list             n=2\n",
      "csv_logger            CSVLogger        <keras.callbacks.CSVLogge<...>object at 0x7fbc1372e940>\n",
      "data                  ndarray          1000x100: 100000 elems, type `float64`, 800000 bytes (781.25 kb)\n",
      "decoder               Functional       <keras.engine.functional.<...>object at 0x7fbc13773d00>\n",
      "decoder_outputs       KerasTensor      KerasTensor(type_spec=Ten<...>ated by layer 'dense_6'\")\n",
      "early_stop            EarlyStopping    <keras.callbacks.EarlySto<...>object at 0x7fbc1372e6a0>\n",
      "embedding             DataFrame                    0         1  <...>\\n[800 rows x 10 columns]\n",
      "encoder               Functional       <keras.engine.functional.<...>object at 0x7fbc137793d0>\n",
      "encoder_inputs        KerasTensor      KerasTensor(type_spec=Ten<...>ated by layer 'input_1'\")\n",
      "history               History          <keras.callbacks.History <...>object at 0x7fbc137696d0>\n",
      "input_dimensions      int              100\n",
      "json                  module           <module 'json' from '/Use<...>hon3.9/json/__init__.py'>\n",
      "keras                 module           <module 'keras.api._v2.ke<...>i/_v2/keras/__init__.py'>\n",
      "latent_dim            int              10\n",
      "latent_inputs         KerasTensor      KerasTensor(type_spec=Ten<...>ated by layer 'input_2'\")\n",
      "layers                module           <module 'keras.api._v2.ke<...>eras/layers/__init__.py'>\n",
      "make_classification   function         <function make_classification at 0x7fbc12000dc0>\n",
      "np                    module           <module 'numpy' from '/Us<...>kages/numpy/__init__.py'>\n",
      "os                    module           <module 'os' from '/Users<...>da3/lib/python3.9/os.py'>\n",
      "pd                    module           <module 'pandas' from '/U<...>ages/pandas/__init__.py'>\n",
      "plt                   module           <module 'matplotlib.pyplo<...>es/matplotlib/pyplot.py'>\n",
      "scaler                MinMaxScaler     MinMaxScaler()\n",
      "tf                    module           <module 'tensorflow' from<...>/tensorflow/__init__.py'>\n",
      "train_data            ndarray          800x100: 80000 elems, type `float64`, 640000 bytes (625.0 kb)\n",
      "train_test_split      function         <function train_test_split at 0x7fbc1209a310>\n",
      "vae                   VAE              <__main__.VAE object at 0x7fbc13795670>\n",
      "val_data              ndarray          200x100: 20000 elems, type `float64`, 160000 bytes (156.25 kb)\n",
      "x                     KerasTensor      KerasTensor(type_spec=Ten<...>ated by layer 'dense_5'\")\n",
      "y                     ndarray          1000: 1000 elems, type `int64`, 8000 bytes\n",
      "z                     KerasTensor      KerasTensor(type_spec=Ten<...>ted by layer 'sampling'\")\n",
      "z_log_var             KerasTensor      KerasTensor(type_spec=Ten<...>ed by layer 'z_log_var'\")\n",
      "z_mean                ndarray          800x10: 8000 elems, type `float32`, 32000 bytes\n",
      "z_var                 ndarray          800x10: 8000 elems, type `float32`, 32000 bytes\n"
     ]
    }
   ],
   "source": [
    "%whos"
   ]
  },
  {
   "cell_type": "code",
   "execution_count": 9,
   "id": "c9d4c9f0-8569-49c1-a6fc-64feaa43d01f",
   "metadata": {},
   "outputs": [
    {
     "data": {
      "text/plain": [
       "(1000, 100)"
      ]
     },
     "execution_count": 9,
     "metadata": {},
     "output_type": "execute_result"
    }
   ],
   "source": [
    "X.shape"
   ]
  },
  {
   "cell_type": "code",
   "execution_count": 5,
   "id": "5b9df15b-49f7-4395-98fa-726a6a5370db",
   "metadata": {},
   "outputs": [
    {
     "data": {
      "text/plain": [
       "0.7467896545746182"
      ]
     },
     "execution_count": 5,
     "metadata": {},
     "output_type": "execute_result"
    }
   ],
   "source": [
    "X[0][0]"
   ]
  },
  {
   "cell_type": "code",
   "execution_count": 6,
   "id": "f27f5c2d-e096-432f-9349-5f7b7f7b0969",
   "metadata": {},
   "outputs": [
    {
     "data": {
      "text/plain": [
       "numpy.float64"
      ]
     },
     "execution_count": 6,
     "metadata": {},
     "output_type": "execute_result"
    }
   ],
   "source": [
    "type(X[0][0])"
   ]
  },
  {
   "cell_type": "code",
   "execution_count": 3,
   "id": "89307beb-ef05-4ae0-a4a5-e950b0abaa3a",
   "metadata": {},
   "outputs": [
    {
     "data": {
      "image/png": "[encoded data removed]",
      "text/plain": [
       "<Figure size 432x288 with 1 Axes>"
      ]
     },
     "metadata": {
      "needs_background": "light"
     },
     "output_type": "display_data"
    }
   ],
   "source": [
    "# Original good run on the in-line make classification data\n",
    "import matplotlib.pyplot as plt\n",
    "plt.plot(history.history['loss'],label=\"loss\")\n",
    "plt.plot(history.history['kl_loss'],label=\"kl_loss\")\n",
    "plt.title(\n",
    "    # file.index.name+\n",
    "          'Dense layer VAE embedding loss, latent dim = '+\n",
    "         str(latent_dim))\n",
    "plt.xlabel('Epoch')\n",
    "plt.ylabel('Loss')\n",
    "plt.annotate('VAE layer type: Dense\\ndtype: ?, normalized',\n",
    "            xy=(.4, .8), xycoords='figure fraction',\n",
    "            horizontalalignment='left', verticalalignment='top',\n",
    "            # fontsize=20\n",
    "            )\n",
    "plt.legend(loc=\"lower left\")\n",
    "plt.savefig('rvrs_out/'+\n",
    "            # file.index.name+'_'+\n",
    "            str(500)+'_epochs__latent_dim_'+str(latent_dim)+'_2022-08-17_v4.png')"
   ]
  }
 ],
 "metadata": {
  "kernelspec": {
   "display_name": "Python 3 (ipykernel)",
   "language": "python",
   "name": "python3"
  },
  "language_info": {
   "codemirror_mode": {
    "name": "ipython",
    "version": 3
   },
   "file_extension": ".py",
   "mimetype": "text/x-python",
   "name": "python",
   "nbconvert_exporter": "python",
   "pygments_lexer": "ipython3",
   "version": "3.9.7"
  }
 },
 "nbformat": 4,
 "nbformat_minor": 5
}
